{
 "cells": [
  {
   "cell_type": "code",
   "execution_count": 3,
   "metadata": {},
   "outputs": [
    {
     "name": "stderr",
     "output_type": "stream",
     "text": [
      "c:\\Python39\\lib\\site-packages\\tqdm\\auto.py:21: TqdmWarning: IProgress not found. Please update jupyter and ipywidgets. See https://ipywidgets.readthedocs.io/en/stable/user_install.html\n",
      "  from .autonotebook import tqdm as notebook_tqdm\n"
     ]
    }
   ],
   "source": [
    "import os\n",
    "import torch\n",
    "import torchaudio\n",
    "from transformers import ASTForAudioClassification\n",
    "from torch.utils.data import Dataset, DataLoader\n",
    "import librosa\n",
    "import numpy as np\n",
    "from transformers import Wav2Vec2Model, Wav2Vec2Processor"
   ]
  },
  {
   "cell_type": "code",
   "execution_count": 4,
   "metadata": {},
   "outputs": [
    {
     "name": "stderr",
     "output_type": "stream",
     "text": [
      "Some weights of Wav2Vec2Model were not initialized from the model checkpoint at facebook/wav2vec2-base-960h and are newly initialized: ['wav2vec2.masked_spec_embed']\n",
      "You should probably TRAIN this model on a down-stream task to be able to use it for predictions and inference.\n"
     ]
    }
   ],
   "source": [
    "processor = Wav2Vec2Processor.from_pretrained(\"facebook/wav2vec2-base-960h\")\n",
    "model = Wav2Vec2Model.from_pretrained(\"facebook/wav2vec2-base-960h\")"
   ]
  },
  {
   "cell_type": "code",
   "execution_count": 5,
   "metadata": {},
   "outputs": [],
   "source": [
    "# Function to load and preprocess MP3 or WAV audio using librosa\n",
    "def load_audio(file_path):\n",
    "    # Load audio using librosa (handles both MP3 and WAV)\n",
    "    waveform, sample_rate = librosa.load(file_path, sr=16000)  # Resampling to 16kHz\n",
    "    return waveform, sample_rate\n",
    "\n",
    "# Function to extract embeddings from audio\n",
    "def extract_embeddings(audio_path):\n",
    "    # Load the audio file using librosa\n",
    "    waveform, sample_rate = load_audio(audio_path)\n",
    "\n",
    "    # Ensure the waveform is in the shape (batch_size, sequence_length)\n",
    "    waveform = torch.tensor(waveform).squeeze()  # Add batch dimension\n",
    "\n",
    "    # Process the audio to get features using the processor\n",
    "    input_values = processor(waveform, return_tensors=\"pt\", padding=True).input_values\n",
    "\n",
    "    # Extract the hidden states (embeddings) from the model\n",
    "    with torch.no_grad():\n",
    "        outputs = model(input_values)\n",
    "\n",
    "    # Extract embeddings (output of the last hidden layer)\n",
    "    embeddings = outputs.last_hidden_state\n",
    "    return embeddings"
   ]
  },
  {
   "cell_type": "code",
   "execution_count": 6,
   "metadata": {},
   "outputs": [],
   "source": [
    "# Function to process all audio files in subfolders and extract embeddings\n",
    "def process_subfolders(directory_path):\n",
    "    embeddings_dict = {}  # Store embeddings by subfolder and filename\n",
    "    for subfolder in os.listdir(directory_path):\n",
    "        subfolder_path = os.path.join(directory_path, subfolder)\n",
    "        \n",
    "        if os.path.isdir(subfolder_path):\n",
    "            subfolder_embeddings = {}  # Store embeddings for the current subfolder\n",
    "            for filename in os.listdir(subfolder_path):\n",
    "                if filename.endswith(\".mp3\") or filename.endswith(\".wav\"):\n",
    "                    audio_path = os.path.join(subfolder_path, filename)\n",
    "                    print(f\"Processing {filename} in {subfolder}...\")\n",
    "                    embeddings = extract_embeddings(audio_path)\n",
    "                    subfolder_embeddings[filename] = embeddings\n",
    "                    print(f\"Extracted embeddings for {filename}\")\n",
    "            embeddings_dict[subfolder] = subfolder_embeddings\n",
    "    return embeddings_dict\n"
   ]
  },
  {
   "cell_type": "code",
   "execution_count": 10,
   "metadata": {},
   "outputs": [
    {
     "name": "stderr",
     "output_type": "stream",
     "text": [
      "C:\\Users\\shiva\\AppData\\Local\\Temp\\ipykernel_16896\\3585509739.py:4: UserWarning: PySoundFile failed. Trying audioread instead.\n",
      "  waveform, sample_rate = librosa.load(file_path, sr=16000)  # Resampling to 16kHz\n"
     ]
    },
    {
     "ename": "OSError",
     "evalue": "[Errno 22] Invalid argument: 'TRAIN\\\\TRAIN\\x07r\\\\أذهب\\\\common_voice_ar_19068306.wav'",
     "output_type": "error",
     "traceback": [
      "\u001b[1;31m---------------------------------------------------------------------------\u001b[0m",
      "\u001b[1;31mLibsndfileError\u001b[0m                           Traceback (most recent call last)",
      "File \u001b[1;32mc:\\Python39\\lib\\site-packages\\librosa\\core\\audio.py:176\u001b[0m, in \u001b[0;36mload\u001b[1;34m(path, sr, mono, offset, duration, dtype, res_type)\u001b[0m\n\u001b[0;32m    175\u001b[0m \u001b[38;5;28;01mtry\u001b[39;00m:\n\u001b[1;32m--> 176\u001b[0m     y, sr_native \u001b[38;5;241m=\u001b[39m \u001b[43m__soundfile_load\u001b[49m\u001b[43m(\u001b[49m\u001b[43mpath\u001b[49m\u001b[43m,\u001b[49m\u001b[43m \u001b[49m\u001b[43moffset\u001b[49m\u001b[43m,\u001b[49m\u001b[43m \u001b[49m\u001b[43mduration\u001b[49m\u001b[43m,\u001b[49m\u001b[43m \u001b[49m\u001b[43mdtype\u001b[49m\u001b[43m)\u001b[49m\n\u001b[0;32m    178\u001b[0m \u001b[38;5;28;01mexcept\u001b[39;00m sf\u001b[38;5;241m.\u001b[39mSoundFileRuntimeError \u001b[38;5;28;01mas\u001b[39;00m exc:\n\u001b[0;32m    179\u001b[0m     \u001b[38;5;66;03m# If soundfile failed, try audioread instead\u001b[39;00m\n",
      "File \u001b[1;32mc:\\Python39\\lib\\site-packages\\librosa\\core\\audio.py:209\u001b[0m, in \u001b[0;36m__soundfile_load\u001b[1;34m(path, offset, duration, dtype)\u001b[0m\n\u001b[0;32m    207\u001b[0m \u001b[38;5;28;01melse\u001b[39;00m:\n\u001b[0;32m    208\u001b[0m     \u001b[38;5;66;03m# Otherwise, create the soundfile object\u001b[39;00m\n\u001b[1;32m--> 209\u001b[0m     context \u001b[38;5;241m=\u001b[39m \u001b[43msf\u001b[49m\u001b[38;5;241;43m.\u001b[39;49m\u001b[43mSoundFile\u001b[49m\u001b[43m(\u001b[49m\u001b[43mpath\u001b[49m\u001b[43m)\u001b[49m\n\u001b[0;32m    211\u001b[0m \u001b[38;5;28;01mwith\u001b[39;00m context \u001b[38;5;28;01mas\u001b[39;00m sf_desc:\n",
      "File \u001b[1;32mc:\\Python39\\lib\\site-packages\\soundfile.py:658\u001b[0m, in \u001b[0;36mSoundFile.__init__\u001b[1;34m(self, file, mode, samplerate, channels, subtype, endian, format, closefd)\u001b[0m\n\u001b[0;32m    656\u001b[0m \u001b[38;5;28mself\u001b[39m\u001b[38;5;241m.\u001b[39m_info \u001b[38;5;241m=\u001b[39m _create_info_struct(file, mode, samplerate, channels,\n\u001b[0;32m    657\u001b[0m                                  \u001b[38;5;28mformat\u001b[39m, subtype, endian)\n\u001b[1;32m--> 658\u001b[0m \u001b[38;5;28mself\u001b[39m\u001b[38;5;241m.\u001b[39m_file \u001b[38;5;241m=\u001b[39m \u001b[38;5;28;43mself\u001b[39;49m\u001b[38;5;241;43m.\u001b[39;49m\u001b[43m_open\u001b[49m\u001b[43m(\u001b[49m\u001b[43mfile\u001b[49m\u001b[43m,\u001b[49m\u001b[43m \u001b[49m\u001b[43mmode_int\u001b[49m\u001b[43m,\u001b[49m\u001b[43m \u001b[49m\u001b[43mclosefd\u001b[49m\u001b[43m)\u001b[49m\n\u001b[0;32m    659\u001b[0m \u001b[38;5;28;01mif\u001b[39;00m \u001b[38;5;28mset\u001b[39m(mode)\u001b[38;5;241m.\u001b[39missuperset(\u001b[38;5;124m'\u001b[39m\u001b[38;5;124mr+\u001b[39m\u001b[38;5;124m'\u001b[39m) \u001b[38;5;129;01mand\u001b[39;00m \u001b[38;5;28mself\u001b[39m\u001b[38;5;241m.\u001b[39mseekable():\n\u001b[0;32m    660\u001b[0m     \u001b[38;5;66;03m# Move write position to 0 (like in Python file objects)\u001b[39;00m\n",
      "File \u001b[1;32mc:\\Python39\\lib\\site-packages\\soundfile.py:1216\u001b[0m, in \u001b[0;36mSoundFile._open\u001b[1;34m(self, file, mode_int, closefd)\u001b[0m\n\u001b[0;32m   1215\u001b[0m     err \u001b[38;5;241m=\u001b[39m _snd\u001b[38;5;241m.\u001b[39msf_error(file_ptr)\n\u001b[1;32m-> 1216\u001b[0m     \u001b[38;5;28;01mraise\u001b[39;00m LibsndfileError(err, prefix\u001b[38;5;241m=\u001b[39m\u001b[38;5;124m\"\u001b[39m\u001b[38;5;124mError opening \u001b[39m\u001b[38;5;132;01m{0!r}\u001b[39;00m\u001b[38;5;124m: \u001b[39m\u001b[38;5;124m\"\u001b[39m\u001b[38;5;241m.\u001b[39mformat(\u001b[38;5;28mself\u001b[39m\u001b[38;5;241m.\u001b[39mname))\n\u001b[0;32m   1217\u001b[0m \u001b[38;5;28;01mif\u001b[39;00m mode_int \u001b[38;5;241m==\u001b[39m _snd\u001b[38;5;241m.\u001b[39mSFM_WRITE:\n\u001b[0;32m   1218\u001b[0m     \u001b[38;5;66;03m# Due to a bug in libsndfile version <= 1.0.25, frames != 0\u001b[39;00m\n\u001b[0;32m   1219\u001b[0m     \u001b[38;5;66;03m# when opening a named pipe in SFM_WRITE mode.\u001b[39;00m\n\u001b[0;32m   1220\u001b[0m     \u001b[38;5;66;03m# See http://github.com/erikd/libsndfile/issues/77.\u001b[39;00m\n",
      "\u001b[1;31mLibsndfileError\u001b[0m: Error opening 'TRAIN\\\\TRAIN\\x07r\\\\أذهب\\\\common_voice_ar_19068306.wav': System error.",
      "\nDuring handling of the above exception, another exception occurred:\n",
      "\u001b[1;31mOSError\u001b[0m                                   Traceback (most recent call last)",
      "Cell \u001b[1;32mIn[10], line 3\u001b[0m\n\u001b[0;32m      1\u001b[0m \u001b[38;5;66;03m# Example usage\u001b[39;00m\n\u001b[0;32m      2\u001b[0m audio_file \u001b[38;5;241m=\u001b[39m \u001b[38;5;124m\"\u001b[39m\u001b[38;5;124mTRAIN\u001b[39m\u001b[38;5;124m\\\u001b[39m\u001b[38;5;124mTRAIN\u001b[39m\u001b[38;5;130;01m\\a\u001b[39;00m\u001b[38;5;124mr\u001b[39m\u001b[38;5;124m\\\u001b[39m\u001b[38;5;124mأذهب\u001b[39m\u001b[38;5;124m\\\u001b[39m\u001b[38;5;124mcommon_voice_ar_19068306.wav\u001b[39m\u001b[38;5;124m\"\u001b[39m  \u001b[38;5;66;03m# Replace with your file path\u001b[39;00m\n\u001b[1;32m----> 3\u001b[0m embeddings \u001b[38;5;241m=\u001b[39m \u001b[43mextract_embeddings\u001b[49m\u001b[43m(\u001b[49m\u001b[43maudio_file\u001b[49m\u001b[43m)\u001b[49m\n\u001b[0;32m      5\u001b[0m \u001b[38;5;66;03m# You can now use the embeddings to create your prototypical network\u001b[39;00m\n\u001b[0;32m      6\u001b[0m \u001b[38;5;28mprint\u001b[39m(embeddings\u001b[38;5;241m.\u001b[39mshape)\n",
      "Cell \u001b[1;32mIn[5], line 10\u001b[0m, in \u001b[0;36mextract_embeddings\u001b[1;34m(audio_path)\u001b[0m\n\u001b[0;32m      8\u001b[0m \u001b[38;5;28;01mdef\u001b[39;00m \u001b[38;5;21mextract_embeddings\u001b[39m(audio_path):\n\u001b[0;32m      9\u001b[0m     \u001b[38;5;66;03m# Load the audio file using librosa\u001b[39;00m\n\u001b[1;32m---> 10\u001b[0m     waveform, sample_rate \u001b[38;5;241m=\u001b[39m \u001b[43mload_audio\u001b[49m\u001b[43m(\u001b[49m\u001b[43maudio_path\u001b[49m\u001b[43m)\u001b[49m\n\u001b[0;32m     12\u001b[0m     \u001b[38;5;66;03m# Ensure the waveform is in the shape (batch_size, sequence_length)\u001b[39;00m\n\u001b[0;32m     13\u001b[0m     waveform \u001b[38;5;241m=\u001b[39m torch\u001b[38;5;241m.\u001b[39mtensor(waveform)\u001b[38;5;241m.\u001b[39msqueeze()  \u001b[38;5;66;03m# Add batch dimension\u001b[39;00m\n",
      "Cell \u001b[1;32mIn[5], line 4\u001b[0m, in \u001b[0;36mload_audio\u001b[1;34m(file_path)\u001b[0m\n\u001b[0;32m      2\u001b[0m \u001b[38;5;28;01mdef\u001b[39;00m \u001b[38;5;21mload_audio\u001b[39m(file_path):\n\u001b[0;32m      3\u001b[0m     \u001b[38;5;66;03m# Load audio using librosa (handles both MP3 and WAV)\u001b[39;00m\n\u001b[1;32m----> 4\u001b[0m     waveform, sample_rate \u001b[38;5;241m=\u001b[39m \u001b[43mlibrosa\u001b[49m\u001b[38;5;241;43m.\u001b[39;49m\u001b[43mload\u001b[49m\u001b[43m(\u001b[49m\u001b[43mfile_path\u001b[49m\u001b[43m,\u001b[49m\u001b[43m \u001b[49m\u001b[43msr\u001b[49m\u001b[38;5;241;43m=\u001b[39;49m\u001b[38;5;241;43m16000\u001b[39;49m\u001b[43m)\u001b[49m  \u001b[38;5;66;03m# Resampling to 16kHz\u001b[39;00m\n\u001b[0;32m      5\u001b[0m     \u001b[38;5;28;01mreturn\u001b[39;00m waveform, sample_rate\n",
      "File \u001b[1;32mc:\\Python39\\lib\\site-packages\\librosa\\core\\audio.py:184\u001b[0m, in \u001b[0;36mload\u001b[1;34m(path, sr, mono, offset, duration, dtype, res_type)\u001b[0m\n\u001b[0;32m    180\u001b[0m \u001b[38;5;28;01mif\u001b[39;00m \u001b[38;5;28misinstance\u001b[39m(path, (\u001b[38;5;28mstr\u001b[39m, pathlib\u001b[38;5;241m.\u001b[39mPurePath)):\n\u001b[0;32m    181\u001b[0m     warnings\u001b[38;5;241m.\u001b[39mwarn(\n\u001b[0;32m    182\u001b[0m         \u001b[38;5;124m\"\u001b[39m\u001b[38;5;124mPySoundFile failed. Trying audioread instead.\u001b[39m\u001b[38;5;124m\"\u001b[39m, stacklevel\u001b[38;5;241m=\u001b[39m\u001b[38;5;241m2\u001b[39m\n\u001b[0;32m    183\u001b[0m     )\n\u001b[1;32m--> 184\u001b[0m     y, sr_native \u001b[38;5;241m=\u001b[39m \u001b[43m__audioread_load\u001b[49m\u001b[43m(\u001b[49m\u001b[43mpath\u001b[49m\u001b[43m,\u001b[49m\u001b[43m \u001b[49m\u001b[43moffset\u001b[49m\u001b[43m,\u001b[49m\u001b[43m \u001b[49m\u001b[43mduration\u001b[49m\u001b[43m,\u001b[49m\u001b[43m \u001b[49m\u001b[43mdtype\u001b[49m\u001b[43m)\u001b[49m\n\u001b[0;32m    185\u001b[0m \u001b[38;5;28;01melse\u001b[39;00m:\n\u001b[0;32m    186\u001b[0m     \u001b[38;5;28;01mraise\u001b[39;00m exc\n",
      "File \u001b[1;32mc:\\Python39\\lib\\site-packages\\decorator.py:232\u001b[0m, in \u001b[0;36mdecorate.<locals>.fun\u001b[1;34m(*args, **kw)\u001b[0m\n\u001b[0;32m    230\u001b[0m \u001b[38;5;28;01mif\u001b[39;00m \u001b[38;5;129;01mnot\u001b[39;00m kwsyntax:\n\u001b[0;32m    231\u001b[0m     args, kw \u001b[38;5;241m=\u001b[39m fix(args, kw, sig)\n\u001b[1;32m--> 232\u001b[0m \u001b[38;5;28;01mreturn\u001b[39;00m caller(func, \u001b[38;5;241m*\u001b[39m(extras \u001b[38;5;241m+\u001b[39m args), \u001b[38;5;241m*\u001b[39m\u001b[38;5;241m*\u001b[39mkw)\n",
      "File \u001b[1;32mc:\\Python39\\lib\\site-packages\\librosa\\util\\decorators.py:59\u001b[0m, in \u001b[0;36mdeprecated.<locals>.__wrapper\u001b[1;34m(func, *args, **kwargs)\u001b[0m\n\u001b[0;32m     50\u001b[0m \u001b[38;5;250m\u001b[39m\u001b[38;5;124;03m\"\"\"Warn the user, and then proceed.\"\"\"\u001b[39;00m\n\u001b[0;32m     51\u001b[0m warnings\u001b[38;5;241m.\u001b[39mwarn(\n\u001b[0;32m     52\u001b[0m     \u001b[38;5;124m\"\u001b[39m\u001b[38;5;132;01m{:s}\u001b[39;00m\u001b[38;5;124m.\u001b[39m\u001b[38;5;132;01m{:s}\u001b[39;00m\u001b[38;5;130;01m\\n\u001b[39;00m\u001b[38;5;130;01m\\t\u001b[39;00m\u001b[38;5;124mDeprecated as of librosa version \u001b[39m\u001b[38;5;132;01m{:s}\u001b[39;00m\u001b[38;5;124m.\u001b[39m\u001b[38;5;124m\"\u001b[39m\n\u001b[0;32m     53\u001b[0m     \u001b[38;5;124m\"\u001b[39m\u001b[38;5;130;01m\\n\u001b[39;00m\u001b[38;5;130;01m\\t\u001b[39;00m\u001b[38;5;124mIt will be removed in librosa version \u001b[39m\u001b[38;5;132;01m{:s}\u001b[39;00m\u001b[38;5;124m.\u001b[39m\u001b[38;5;124m\"\u001b[39m\u001b[38;5;241m.\u001b[39mformat(\n\u001b[1;32m   (...)\u001b[0m\n\u001b[0;32m     57\u001b[0m     stacklevel\u001b[38;5;241m=\u001b[39m\u001b[38;5;241m3\u001b[39m,  \u001b[38;5;66;03m# Would be 2, but the decorator adds a level\u001b[39;00m\n\u001b[0;32m     58\u001b[0m )\n\u001b[1;32m---> 59\u001b[0m \u001b[38;5;28;01mreturn\u001b[39;00m func(\u001b[38;5;241m*\u001b[39margs, \u001b[38;5;241m*\u001b[39m\u001b[38;5;241m*\u001b[39mkwargs)\n",
      "File \u001b[1;32mc:\\Python39\\lib\\site-packages\\librosa\\core\\audio.py:240\u001b[0m, in \u001b[0;36m__audioread_load\u001b[1;34m(path, offset, duration, dtype)\u001b[0m\n\u001b[0;32m    237\u001b[0m     reader \u001b[38;5;241m=\u001b[39m path\n\u001b[0;32m    238\u001b[0m \u001b[38;5;28;01melse\u001b[39;00m:\n\u001b[0;32m    239\u001b[0m     \u001b[38;5;66;03m# If the input was not an audioread object, try to open it\u001b[39;00m\n\u001b[1;32m--> 240\u001b[0m     reader \u001b[38;5;241m=\u001b[39m \u001b[43maudioread\u001b[49m\u001b[38;5;241;43m.\u001b[39;49m\u001b[43maudio_open\u001b[49m\u001b[43m(\u001b[49m\u001b[43mpath\u001b[49m\u001b[43m)\u001b[49m\n\u001b[0;32m    242\u001b[0m \u001b[38;5;28;01mwith\u001b[39;00m reader \u001b[38;5;28;01mas\u001b[39;00m input_file:\n\u001b[0;32m    243\u001b[0m     sr_native \u001b[38;5;241m=\u001b[39m input_file\u001b[38;5;241m.\u001b[39msamplerate\n",
      "File \u001b[1;32mc:\\Python39\\lib\\site-packages\\audioread\\__init__.py:127\u001b[0m, in \u001b[0;36maudio_open\u001b[1;34m(path, backends)\u001b[0m\n\u001b[0;32m    125\u001b[0m \u001b[38;5;28;01mfor\u001b[39;00m BackendClass \u001b[38;5;129;01min\u001b[39;00m backends:\n\u001b[0;32m    126\u001b[0m     \u001b[38;5;28;01mtry\u001b[39;00m:\n\u001b[1;32m--> 127\u001b[0m         \u001b[38;5;28;01mreturn\u001b[39;00m \u001b[43mBackendClass\u001b[49m\u001b[43m(\u001b[49m\u001b[43mpath\u001b[49m\u001b[43m)\u001b[49m\n\u001b[0;32m    128\u001b[0m     \u001b[38;5;28;01mexcept\u001b[39;00m DecodeError:\n\u001b[0;32m    129\u001b[0m         \u001b[38;5;28;01mpass\u001b[39;00m\n",
      "File \u001b[1;32mc:\\Python39\\lib\\site-packages\\audioread\\rawread.py:59\u001b[0m, in \u001b[0;36mRawAudioFile.__init__\u001b[1;34m(self, filename)\u001b[0m\n\u001b[0;32m     58\u001b[0m \u001b[38;5;28;01mdef\u001b[39;00m \u001b[38;5;21m__init__\u001b[39m(\u001b[38;5;28mself\u001b[39m, filename):\n\u001b[1;32m---> 59\u001b[0m     \u001b[38;5;28mself\u001b[39m\u001b[38;5;241m.\u001b[39m_fh \u001b[38;5;241m=\u001b[39m \u001b[38;5;28;43mopen\u001b[39;49m\u001b[43m(\u001b[49m\u001b[43mfilename\u001b[49m\u001b[43m,\u001b[49m\u001b[43m \u001b[49m\u001b[38;5;124;43m'\u001b[39;49m\u001b[38;5;124;43mrb\u001b[39;49m\u001b[38;5;124;43m'\u001b[39;49m\u001b[43m)\u001b[49m\n\u001b[0;32m     61\u001b[0m     \u001b[38;5;28;01mtry\u001b[39;00m:\n\u001b[0;32m     62\u001b[0m         \u001b[38;5;28mself\u001b[39m\u001b[38;5;241m.\u001b[39m_file \u001b[38;5;241m=\u001b[39m aifc\u001b[38;5;241m.\u001b[39mopen(\u001b[38;5;28mself\u001b[39m\u001b[38;5;241m.\u001b[39m_fh)\n",
      "\u001b[1;31mOSError\u001b[0m: [Errno 22] Invalid argument: 'TRAIN\\\\TRAIN\\x07r\\\\أذهب\\\\common_voice_ar_19068306.wav'"
     ]
    }
   ],
   "source": [
    "# Example usage\n",
    "audio_file = \"TRAIN\\TRAIN\\ar\\أذهب\\common_voice_ar_19068306.wav\"  # Replace with your file path\n",
    "embeddings = extract_embeddings(audio_file)\n",
    "\n",
    "# You can now use the embeddings to create your prototypical network\n",
    "print(embeddings.shape)"
   ]
  },
  {
   "cell_type": "code",
   "execution_count": 69,
   "metadata": {},
   "outputs": [
    {
     "name": "stdout",
     "output_type": "stream",
     "text": [
      "tensor([[[ 0.0024, -0.0283,  0.0913,  ..., -0.2030,  0.0268, -0.1202],\n",
      "         [ 0.0042, -0.0230,  0.0943,  ..., -0.2063,  0.0253, -0.1277],\n",
      "         [ 0.0125, -0.0256,  0.0967,  ..., -0.2084,  0.0285, -0.1333],\n",
      "         ...,\n",
      "         [ 0.0038, -0.0256,  0.0846,  ..., -0.2283,  0.0202, -0.1008],\n",
      "         [ 0.0025, -0.0263,  0.0845,  ..., -0.2261,  0.0172, -0.0968],\n",
      "         [-0.0023, -0.0280,  0.0848,  ..., -0.2272,  0.0160, -0.0964]]])\n"
     ]
    }
   ],
   "source": [
    "print(embeddings)"
   ]
  },
  {
   "cell_type": "code",
   "execution_count": 71,
   "metadata": {},
   "outputs": [
    {
     "name": "stdout",
     "output_type": "stream",
     "text": [
      "Processing common_voice_ta_22102795.mp3 in ஃபயர்ஃபாக்ஸ்...\n"
     ]
    },
    {
     "name": "stderr",
     "output_type": "stream",
     "text": [
      "It is strongly recommended to pass the ``sampling_rate`` argument to this function. Failing to do so can result in silent errors that might be hard to debug.\n",
      "It is strongly recommended to pass the ``sampling_rate`` argument to this function. Failing to do so can result in silent errors that might be hard to debug.\n"
     ]
    },
    {
     "name": "stdout",
     "output_type": "stream",
     "text": [
      "Extracted embeddings for common_voice_ta_22102795.mp3\n",
      "Processing common_voice_ta_22119939.mp3 in ஃபயர்ஃபாக்ஸ்...\n"
     ]
    },
    {
     "name": "stderr",
     "output_type": "stream",
     "text": [
      "It is strongly recommended to pass the ``sampling_rate`` argument to this function. Failing to do so can result in silent errors that might be hard to debug.\n"
     ]
    },
    {
     "name": "stdout",
     "output_type": "stream",
     "text": [
      "Extracted embeddings for common_voice_ta_22119939.mp3\n",
      "Processing common_voice_ta_22136198.mp3 in ஃபயர்ஃபாக்ஸ்...\n"
     ]
    },
    {
     "name": "stderr",
     "output_type": "stream",
     "text": [
      "It is strongly recommended to pass the ``sampling_rate`` argument to this function. Failing to do so can result in silent errors that might be hard to debug.\n"
     ]
    },
    {
     "name": "stdout",
     "output_type": "stream",
     "text": [
      "Extracted embeddings for common_voice_ta_22136198.mp3\n",
      "Processing common_voice_ta_21689633.mp3 in ஆம்...\n"
     ]
    },
    {
     "name": "stderr",
     "output_type": "stream",
     "text": [
      "It is strongly recommended to pass the ``sampling_rate`` argument to this function. Failing to do so can result in silent errors that might be hard to debug.\n"
     ]
    },
    {
     "name": "stdout",
     "output_type": "stream",
     "text": [
      "Extracted embeddings for common_voice_ta_21689633.mp3\n",
      "Processing common_voice_ta_21711106.mp3 in ஆம்...\n"
     ]
    },
    {
     "name": "stderr",
     "output_type": "stream",
     "text": [
      "It is strongly recommended to pass the ``sampling_rate`` argument to this function. Failing to do so can result in silent errors that might be hard to debug.\n"
     ]
    },
    {
     "name": "stdout",
     "output_type": "stream",
     "text": [
      "Extracted embeddings for common_voice_ta_21711106.mp3\n",
      "Processing common_voice_ta_21721820.mp3 in ஆம்...\n"
     ]
    },
    {
     "name": "stderr",
     "output_type": "stream",
     "text": [
      "It is strongly recommended to pass the ``sampling_rate`` argument to this function. Failing to do so can result in silent errors that might be hard to debug.\n"
     ]
    },
    {
     "name": "stdout",
     "output_type": "stream",
     "text": [
      "Extracted embeddings for common_voice_ta_21721820.mp3\n",
      "Processing common_voice_ta_21896827.mp3 in ஆறு...\n"
     ]
    },
    {
     "name": "stderr",
     "output_type": "stream",
     "text": [
      "It is strongly recommended to pass the ``sampling_rate`` argument to this function. Failing to do so can result in silent errors that might be hard to debug.\n"
     ]
    },
    {
     "name": "stdout",
     "output_type": "stream",
     "text": [
      "Extracted embeddings for common_voice_ta_21896827.mp3\n",
      "Processing common_voice_ta_22018504.mp3 in ஆறு...\n"
     ]
    },
    {
     "name": "stderr",
     "output_type": "stream",
     "text": [
      "It is strongly recommended to pass the ``sampling_rate`` argument to this function. Failing to do so can result in silent errors that might be hard to debug.\n"
     ]
    },
    {
     "name": "stdout",
     "output_type": "stream",
     "text": [
      "Extracted embeddings for common_voice_ta_22018504.mp3\n",
      "Processing common_voice_ta_22024485.mp3 in ஆறு...\n"
     ]
    },
    {
     "name": "stderr",
     "output_type": "stream",
     "text": [
      "It is strongly recommended to pass the ``sampling_rate`` argument to this function. Failing to do so can result in silent errors that might be hard to debug.\n"
     ]
    },
    {
     "name": "stdout",
     "output_type": "stream",
     "text": [
      "Extracted embeddings for common_voice_ta_22024485.mp3\n",
      "Processing common_voice_ta_21896817.mp3 in இரண்டு...\n"
     ]
    },
    {
     "name": "stderr",
     "output_type": "stream",
     "text": [
      "It is strongly recommended to pass the ``sampling_rate`` argument to this function. Failing to do so can result in silent errors that might be hard to debug.\n"
     ]
    },
    {
     "name": "stdout",
     "output_type": "stream",
     "text": [
      "Extracted embeddings for common_voice_ta_21896817.mp3\n",
      "Processing common_voice_ta_21971682.mp3 in இரண்டு...\n"
     ]
    },
    {
     "name": "stderr",
     "output_type": "stream",
     "text": [
      "It is strongly recommended to pass the ``sampling_rate`` argument to this function. Failing to do so can result in silent errors that might be hard to debug.\n"
     ]
    },
    {
     "name": "stdout",
     "output_type": "stream",
     "text": [
      "Extracted embeddings for common_voice_ta_21971682.mp3\n",
      "Processing common_voice_ta_22018498.mp3 in இரண்டு...\n"
     ]
    },
    {
     "name": "stderr",
     "output_type": "stream",
     "text": [
      "It is strongly recommended to pass the ``sampling_rate`` argument to this function. Failing to do so can result in silent errors that might be hard to debug.\n"
     ]
    },
    {
     "name": "stdout",
     "output_type": "stream",
     "text": [
      "Extracted embeddings for common_voice_ta_22018498.mp3\n",
      "Processing common_voice_ta_21896819.mp3 in இல்லை...\n"
     ]
    },
    {
     "name": "stderr",
     "output_type": "stream",
     "text": [
      "It is strongly recommended to pass the ``sampling_rate`` argument to this function. Failing to do so can result in silent errors that might be hard to debug.\n"
     ]
    },
    {
     "name": "stdout",
     "output_type": "stream",
     "text": [
      "Extracted embeddings for common_voice_ta_21896819.mp3\n",
      "Processing common_voice_ta_21971728.mp3 in இல்லை...\n"
     ]
    },
    {
     "name": "stderr",
     "output_type": "stream",
     "text": [
      "It is strongly recommended to pass the ``sampling_rate`` argument to this function. Failing to do so can result in silent errors that might be hard to debug.\n"
     ]
    },
    {
     "name": "stdout",
     "output_type": "stream",
     "text": [
      "Extracted embeddings for common_voice_ta_21971728.mp3\n",
      "Processing common_voice_ta_22018511.mp3 in இல்லை...\n"
     ]
    },
    {
     "name": "stderr",
     "output_type": "stream",
     "text": [
      "It is strongly recommended to pass the ``sampling_rate`` argument to this function. Failing to do so can result in silent errors that might be hard to debug.\n"
     ]
    },
    {
     "name": "stdout",
     "output_type": "stream",
     "text": [
      "Extracted embeddings for common_voice_ta_22018511.mp3\n",
      "Processing common_voice_ta_21714254.mp3 in எட்டு...\n"
     ]
    },
    {
     "name": "stderr",
     "output_type": "stream",
     "text": [
      "It is strongly recommended to pass the ``sampling_rate`` argument to this function. Failing to do so can result in silent errors that might be hard to debug.\n"
     ]
    },
    {
     "name": "stdout",
     "output_type": "stream",
     "text": [
      "Extracted embeddings for common_voice_ta_21714254.mp3\n",
      "Processing common_voice_ta_21896829.mp3 in எட்டு...\n"
     ]
    },
    {
     "name": "stderr",
     "output_type": "stream",
     "text": [
      "It is strongly recommended to pass the ``sampling_rate`` argument to this function. Failing to do so can result in silent errors that might be hard to debug.\n"
     ]
    },
    {
     "name": "stdout",
     "output_type": "stream",
     "text": [
      "Extracted embeddings for common_voice_ta_21896829.mp3\n",
      "Processing common_voice_ta_21971726.mp3 in எட்டு...\n"
     ]
    },
    {
     "name": "stderr",
     "output_type": "stream",
     "text": [
      "It is strongly recommended to pass the ``sampling_rate`` argument to this function. Failing to do so can result in silent errors that might be hard to debug.\n"
     ]
    },
    {
     "name": "stdout",
     "output_type": "stream",
     "text": [
      "Extracted embeddings for common_voice_ta_21971726.mp3\n",
      "Processing common_voice_ta_21843468.mp3 in ஏழு...\n"
     ]
    },
    {
     "name": "stderr",
     "output_type": "stream",
     "text": [
      "It is strongly recommended to pass the ``sampling_rate`` argument to this function. Failing to do so can result in silent errors that might be hard to debug.\n"
     ]
    },
    {
     "name": "stdout",
     "output_type": "stream",
     "text": [
      "Extracted embeddings for common_voice_ta_21843468.mp3\n",
      "Processing common_voice_ta_21971677.mp3 in ஏழு...\n"
     ]
    },
    {
     "name": "stderr",
     "output_type": "stream",
     "text": [
      "It is strongly recommended to pass the ``sampling_rate`` argument to this function. Failing to do so can result in silent errors that might be hard to debug.\n"
     ]
    },
    {
     "name": "stdout",
     "output_type": "stream",
     "text": [
      "Extracted embeddings for common_voice_ta_21971677.mp3\n",
      "Processing common_voice_ta_22018509.mp3 in ஏழு...\n"
     ]
    },
    {
     "name": "stderr",
     "output_type": "stream",
     "text": [
      "It is strongly recommended to pass the ``sampling_rate`` argument to this function. Failing to do so can result in silent errors that might be hard to debug.\n"
     ]
    },
    {
     "name": "stdout",
     "output_type": "stream",
     "text": [
      "Extracted embeddings for common_voice_ta_22018509.mp3\n",
      "Processing common_voice_ta_22136234.mp3 in ஐந்து...\n"
     ]
    },
    {
     "name": "stderr",
     "output_type": "stream",
     "text": [
      "It is strongly recommended to pass the ``sampling_rate`` argument to this function. Failing to do so can result in silent errors that might be hard to debug.\n"
     ]
    },
    {
     "name": "stdout",
     "output_type": "stream",
     "text": [
      "Extracted embeddings for common_voice_ta_22136234.mp3\n",
      "Processing common_voice_ta_22280772.mp3 in ஐந்து...\n"
     ]
    },
    {
     "name": "stderr",
     "output_type": "stream",
     "text": [
      "It is strongly recommended to pass the ``sampling_rate`` argument to this function. Failing to do so can result in silent errors that might be hard to debug.\n"
     ]
    },
    {
     "name": "stdout",
     "output_type": "stream",
     "text": [
      "Extracted embeddings for common_voice_ta_22280772.mp3\n",
      "Processing common_voice_ta_22305206.mp3 in ஐந்து...\n"
     ]
    },
    {
     "name": "stderr",
     "output_type": "stream",
     "text": [
      "It is strongly recommended to pass the ``sampling_rate`` argument to this function. Failing to do so can result in silent errors that might be hard to debug.\n"
     ]
    },
    {
     "name": "stdout",
     "output_type": "stream",
     "text": [
      "Extracted embeddings for common_voice_ta_22305206.mp3\n",
      "Processing common_voice_ta_21689632.mp3 in ஒன்பது...\n"
     ]
    },
    {
     "name": "stderr",
     "output_type": "stream",
     "text": [
      "It is strongly recommended to pass the ``sampling_rate`` argument to this function. Failing to do so can result in silent errors that might be hard to debug.\n"
     ]
    },
    {
     "name": "stdout",
     "output_type": "stream",
     "text": [
      "Extracted embeddings for common_voice_ta_21689632.mp3\n",
      "Processing common_voice_ta_21746487.mp3 in ஒன்பது...\n"
     ]
    },
    {
     "name": "stderr",
     "output_type": "stream",
     "text": [
      "It is strongly recommended to pass the ``sampling_rate`` argument to this function. Failing to do so can result in silent errors that might be hard to debug.\n"
     ]
    },
    {
     "name": "stdout",
     "output_type": "stream",
     "text": [
      "Extracted embeddings for common_voice_ta_21746487.mp3\n",
      "Processing common_voice_ta_21829429.mp3 in ஒன்பது...\n"
     ]
    },
    {
     "name": "stderr",
     "output_type": "stream",
     "text": [
      "It is strongly recommended to pass the ``sampling_rate`` argument to this function. Failing to do so can result in silent errors that might be hard to debug.\n"
     ]
    },
    {
     "name": "stdout",
     "output_type": "stream",
     "text": [
      "Extracted embeddings for common_voice_ta_21829429.mp3\n",
      "Processing common_voice_ta_21708919.mp3 in ஒன்று...\n"
     ]
    },
    {
     "name": "stderr",
     "output_type": "stream",
     "text": [
      "It is strongly recommended to pass the ``sampling_rate`` argument to this function. Failing to do so can result in silent errors that might be hard to debug.\n"
     ]
    },
    {
     "name": "stdout",
     "output_type": "stream",
     "text": [
      "Extracted embeddings for common_voice_ta_21708919.mp3\n",
      "Processing common_voice_ta_21746221.mp3 in ஒன்று...\n"
     ]
    },
    {
     "name": "stderr",
     "output_type": "stream",
     "text": [
      "It is strongly recommended to pass the ``sampling_rate`` argument to this function. Failing to do so can result in silent errors that might be hard to debug.\n"
     ]
    },
    {
     "name": "stdout",
     "output_type": "stream",
     "text": [
      "Extracted embeddings for common_voice_ta_21746221.mp3\n",
      "Processing common_voice_ta_21896820.mp3 in ஒன்று...\n"
     ]
    },
    {
     "name": "stderr",
     "output_type": "stream",
     "text": [
      "It is strongly recommended to pass the ``sampling_rate`` argument to this function. Failing to do so can result in silent errors that might be hard to debug.\n"
     ]
    },
    {
     "name": "stdout",
     "output_type": "stream",
     "text": [
      "Extracted embeddings for common_voice_ta_21896820.mp3\n",
      "Processing common_voice_ta_21829428.mp3 in நான்கு...\n"
     ]
    },
    {
     "name": "stderr",
     "output_type": "stream",
     "text": [
      "It is strongly recommended to pass the ``sampling_rate`` argument to this function. Failing to do so can result in silent errors that might be hard to debug.\n"
     ]
    },
    {
     "name": "stdout",
     "output_type": "stream",
     "text": [
      "Extracted embeddings for common_voice_ta_21829428.mp3\n",
      "Processing common_voice_ta_21896824.mp3 in நான்கு...\n"
     ]
    },
    {
     "name": "stderr",
     "output_type": "stream",
     "text": [
      "It is strongly recommended to pass the ``sampling_rate`` argument to this function. Failing to do so can result in silent errors that might be hard to debug.\n"
     ]
    },
    {
     "name": "stdout",
     "output_type": "stream",
     "text": [
      "Extracted embeddings for common_voice_ta_21896824.mp3\n",
      "Processing common_voice_ta_21971674.mp3 in நான்கு...\n"
     ]
    },
    {
     "name": "stderr",
     "output_type": "stream",
     "text": [
      "It is strongly recommended to pass the ``sampling_rate`` argument to this function. Failing to do so can result in silent errors that might be hard to debug.\n"
     ]
    },
    {
     "name": "stdout",
     "output_type": "stream",
     "text": [
      "Extracted embeddings for common_voice_ta_21971674.mp3\n",
      "Processing common_voice_ta_21896828.mp3 in பூஜ்யம்...\n"
     ]
    },
    {
     "name": "stderr",
     "output_type": "stream",
     "text": [
      "It is strongly recommended to pass the ``sampling_rate`` argument to this function. Failing to do so can result in silent errors that might be hard to debug.\n"
     ]
    },
    {
     "name": "stdout",
     "output_type": "stream",
     "text": [
      "Extracted embeddings for common_voice_ta_21896828.mp3\n",
      "Processing common_voice_ta_21971675.mp3 in பூஜ்யம்...\n"
     ]
    },
    {
     "name": "stderr",
     "output_type": "stream",
     "text": [
      "It is strongly recommended to pass the ``sampling_rate`` argument to this function. Failing to do so can result in silent errors that might be hard to debug.\n"
     ]
    },
    {
     "name": "stdout",
     "output_type": "stream",
     "text": [
      "Extracted embeddings for common_voice_ta_21971675.mp3\n",
      "Processing common_voice_ta_22018500.mp3 in பூஜ்யம்...\n"
     ]
    },
    {
     "name": "stderr",
     "output_type": "stream",
     "text": [
      "It is strongly recommended to pass the ``sampling_rate`` argument to this function. Failing to do so can result in silent errors that might be hard to debug.\n"
     ]
    },
    {
     "name": "stdout",
     "output_type": "stream",
     "text": [
      "Extracted embeddings for common_voice_ta_22018500.mp3\n",
      "Processing common_voice_ta_21896823.mp3 in மூன்று...\n"
     ]
    },
    {
     "name": "stderr",
     "output_type": "stream",
     "text": [
      "It is strongly recommended to pass the ``sampling_rate`` argument to this function. Failing to do so can result in silent errors that might be hard to debug.\n"
     ]
    },
    {
     "name": "stdout",
     "output_type": "stream",
     "text": [
      "Extracted embeddings for common_voice_ta_21896823.mp3\n",
      "Processing common_voice_ta_21971725.mp3 in மூன்று...\n"
     ]
    },
    {
     "name": "stderr",
     "output_type": "stream",
     "text": [
      "It is strongly recommended to pass the ``sampling_rate`` argument to this function. Failing to do so can result in silent errors that might be hard to debug.\n"
     ]
    },
    {
     "name": "stdout",
     "output_type": "stream",
     "text": [
      "Extracted embeddings for common_voice_ta_21971725.mp3\n",
      "Processing common_voice_ta_22018552.mp3 in மூன்று...\n"
     ]
    },
    {
     "name": "stderr",
     "output_type": "stream",
     "text": [
      "It is strongly recommended to pass the ``sampling_rate`` argument to this function. Failing to do so can result in silent errors that might be hard to debug.\n"
     ]
    },
    {
     "name": "stdout",
     "output_type": "stream",
     "text": [
      "Extracted embeddings for common_voice_ta_22018552.mp3\n",
      "Processing common_voice_ta_22102692.mp3 in ஹே...\n"
     ]
    },
    {
     "name": "stderr",
     "output_type": "stream",
     "text": [
      "It is strongly recommended to pass the ``sampling_rate`` argument to this function. Failing to do so can result in silent errors that might be hard to debug.\n"
     ]
    },
    {
     "name": "stdout",
     "output_type": "stream",
     "text": [
      "Extracted embeddings for common_voice_ta_22102692.mp3\n",
      "Processing common_voice_ta_22280779.mp3 in ஹே...\n"
     ]
    },
    {
     "name": "stderr",
     "output_type": "stream",
     "text": [
      "It is strongly recommended to pass the ``sampling_rate`` argument to this function. Failing to do so can result in silent errors that might be hard to debug.\n"
     ]
    },
    {
     "name": "stdout",
     "output_type": "stream",
     "text": [
      "Extracted embeddings for common_voice_ta_22280779.mp3\n",
      "Processing common_voice_ta_22305162.mp3 in ஹே...\n",
      "Extracted embeddings for common_voice_ta_22305162.mp3\n"
     ]
    }
   ],
   "source": [
    "# Example usage\n",
    "dataset_directory = 'Few_shots\\Tamil'  # Replace with your dataset directory path\n",
    "embeddings_dict = process_subfolders(dataset_directory)"
   ]
  },
  {
   "cell_type": "code",
   "execution_count": 73,
   "metadata": {},
   "outputs": [
    {
     "name": "stdout",
     "output_type": "stream",
     "text": [
      "{'ஃபயர்ஃபாக்ஸ்': {'common_voice_ta_22102795.mp3': tensor([[[-0.0569,  0.0471,  0.0583,  ..., -0.0502,  0.0683, -0.0767],\n",
      "         [-0.0554,  0.0480,  0.0624,  ..., -0.0581,  0.0681, -0.0791],\n",
      "         [-0.0548,  0.0489,  0.0634,  ..., -0.0625,  0.0676, -0.0782],\n",
      "         ...,\n",
      "         [-0.0528,  0.0437,  0.0467,  ..., -0.0622,  0.0665, -0.0556],\n",
      "         [-0.0557,  0.0436,  0.0440,  ..., -0.0658,  0.0689, -0.0476],\n",
      "         [-0.0587,  0.0413,  0.0525,  ..., -0.0608,  0.0683, -0.0507]]]), 'common_voice_ta_22119939.mp3': tensor([[[-0.0207,  0.0283,  0.0356,  ..., -0.1737,  0.0563, -0.0175],\n",
      "         [-0.0276,  0.0181,  0.0477,  ..., -0.1859,  0.0596, -0.0164],\n",
      "         [-0.0332,  0.0055,  0.0433,  ..., -0.1968,  0.0695, -0.0233],\n",
      "         ...,\n",
      "         [-0.0371, -0.0009,  0.0534,  ..., -0.1940,  0.0691, -0.0302],\n",
      "         [-0.0323, -0.0031,  0.0550,  ..., -0.1982,  0.0671, -0.0195],\n",
      "         [-0.0281,  0.0034,  0.0532,  ..., -0.1959,  0.0642, -0.0225]]]), 'common_voice_ta_22136198.mp3': tensor([[[ 0.0232, -0.0109, -0.0536,  ...,  0.0380,  0.0572, -0.0860],\n",
      "         [ 0.0245, -0.0093, -0.0519,  ...,  0.0389,  0.0567, -0.0863],\n",
      "         [ 0.0317, -0.0090, -0.0517,  ...,  0.0425,  0.0547, -0.0886],\n",
      "         ...,\n",
      "         [ 0.0142, -0.0170, -0.0659,  ...,  0.0125,  0.0549, -0.0649],\n",
      "         [ 0.0138, -0.0168, -0.0654,  ...,  0.0137,  0.0539, -0.0648],\n",
      "         [ 0.0120, -0.0215, -0.0613,  ...,  0.0199,  0.0550, -0.0579]]])}, 'ஆம்': {'common_voice_ta_21689633.mp3': tensor([[[-0.0028,  0.0097,  0.0061,  ..., -0.0743,  0.0560,  0.0027],\n",
      "         [-0.0041,  0.0099,  0.0105,  ..., -0.0907,  0.0585,  0.0046],\n",
      "         [-0.0051,  0.0105,  0.0150,  ..., -0.0967,  0.0599,  0.0030],\n",
      "         ...,\n",
      "         [-0.0177,  0.0054,  0.0299,  ..., -0.1080,  0.0735,  0.0199],\n",
      "         [-0.0138,  0.0089,  0.0282,  ..., -0.1054,  0.0673,  0.0170],\n",
      "         [-0.0113,  0.0083,  0.0310,  ..., -0.0967,  0.0641,  0.0135]]]), 'common_voice_ta_21711106.mp3': tensor([[[ 0.0383,  0.0441,  0.0380,  ..., -0.3485,  0.0286, -0.1060],\n",
      "         [ 0.0441,  0.0369,  0.0462,  ..., -0.3743,  0.0351, -0.1088],\n",
      "         [ 0.0522,  0.0330,  0.0525,  ..., -0.3753,  0.0341, -0.1170],\n",
      "         ...,\n",
      "         [ 0.0324,  0.0226,  0.0547,  ..., -0.4289,  0.0425, -0.1034],\n",
      "         [ 0.0368,  0.0151,  0.0525,  ..., -0.4223,  0.0460, -0.1067],\n",
      "         [ 0.0398,  0.0217,  0.0445,  ..., -0.4199,  0.0437, -0.0985]]]), 'common_voice_ta_21721820.mp3': tensor([[[ 0.0296,  0.0052,  0.1049,  ..., -0.2374,  0.0716, -0.0679],\n",
      "         [ 0.0383, -0.0132,  0.1071,  ..., -0.2361,  0.0852, -0.1314],\n",
      "         [ 0.0344, -0.0149,  0.0995,  ..., -0.2119,  0.0895, -0.1400],\n",
      "         ...,\n",
      "         [ 0.0455, -0.0230,  0.0910,  ..., -0.2454,  0.0893, -0.1194],\n",
      "         [ 0.0430, -0.0172,  0.0929,  ..., -0.2497,  0.0882, -0.0973],\n",
      "         [ 0.0390, -0.0155,  0.0993,  ..., -0.2580,  0.0818, -0.0861]]])}, 'ஆறு': {'common_voice_ta_21896827.mp3': tensor([[[ 0.0198, -0.0030,  0.2203,  ..., -0.2431,  0.0366, -0.1643],\n",
      "         [ 0.0206, -0.0018,  0.2203,  ..., -0.2443,  0.0364, -0.1654],\n",
      "         [ 0.0203, -0.0019,  0.2225,  ..., -0.2453,  0.0366, -0.1662],\n",
      "         ...,\n",
      "         [ 0.0141, -0.0076,  0.2217,  ..., -0.2328,  0.0432, -0.1782],\n",
      "         [ 0.0131, -0.0128,  0.2241,  ..., -0.2253,  0.0429, -0.1740],\n",
      "         [ 0.0175, -0.0112,  0.2310,  ..., -0.2394,  0.0388, -0.1673]]]), 'common_voice_ta_22018504.mp3': tensor([[[-0.0037, -0.0072,  0.2644,  ..., -0.2240,  0.0249, -0.0757],\n",
      "         [-0.0109, -0.0178,  0.2703,  ..., -0.2123,  0.0301, -0.0867],\n",
      "         [-0.0137, -0.0185,  0.2558,  ..., -0.2147,  0.0318, -0.0891],\n",
      "         ...,\n",
      "         [-0.0169, -0.0182,  0.2547,  ..., -0.2234,  0.0344, -0.0781],\n",
      "         [-0.0228, -0.0167,  0.2399,  ..., -0.2212,  0.0351, -0.0671],\n",
      "         [-0.0158, -0.0106,  0.2454,  ..., -0.2296,  0.0343, -0.0684]]]), 'common_voice_ta_22024485.mp3': tensor([[[ 0.0207, -0.0158,  0.1906,  ..., -0.3269,  0.0552, -0.1220],\n",
      "         [ 0.0204, -0.0207,  0.1893,  ..., -0.3124,  0.0634, -0.1295],\n",
      "         [ 0.0307, -0.0229,  0.1897,  ..., -0.3191,  0.0613, -0.1355],\n",
      "         ...,\n",
      "         [ 0.0158, -0.0234,  0.1918,  ..., -0.3400,  0.0603, -0.1252],\n",
      "         [ 0.0150, -0.0285,  0.1888,  ..., -0.3352,  0.0603, -0.1267],\n",
      "         [ 0.0120, -0.0284,  0.1836,  ..., -0.3337,  0.0597, -0.1235]]])}, 'இரண்டு': {'common_voice_ta_21896817.mp3': tensor([[[-0.0583,  0.0278,  0.0097,  ..., -0.2137, -0.0036, -0.1195],\n",
      "         [-0.0610,  0.0264,  0.0119,  ..., -0.2171, -0.0022, -0.1184],\n",
      "         [-0.0611,  0.0192,  0.0254,  ..., -0.2465, -0.0152, -0.1376],\n",
      "         ...,\n",
      "         [-0.0567,  0.0117,  0.0194,  ..., -0.2035, -0.0013, -0.1094],\n",
      "         [-0.0613,  0.0194,  0.0072,  ..., -0.2062, -0.0034, -0.1056],\n",
      "         [-0.0536,  0.0182,  0.0040,  ..., -0.2144, -0.0040, -0.1086]]]), 'common_voice_ta_21971682.mp3': tensor([[[ 0.0024, -0.0283,  0.0913,  ..., -0.2030,  0.0268, -0.1202],\n",
      "         [ 0.0042, -0.0230,  0.0943,  ..., -0.2063,  0.0253, -0.1277],\n",
      "         [ 0.0125, -0.0256,  0.0967,  ..., -0.2084,  0.0285, -0.1333],\n",
      "         ...,\n",
      "         [ 0.0038, -0.0256,  0.0846,  ..., -0.2283,  0.0202, -0.1008],\n",
      "         [ 0.0025, -0.0263,  0.0845,  ..., -0.2261,  0.0172, -0.0968],\n",
      "         [-0.0023, -0.0280,  0.0848,  ..., -0.2272,  0.0160, -0.0964]]]), 'common_voice_ta_22018498.mp3': tensor([[[ 5.3663e-04,  1.2194e-02,  8.9580e-02,  ..., -2.4729e-01,\n",
      "           4.4615e-02, -1.5684e-02],\n",
      "         [-3.9040e-03,  8.1659e-03,  8.7499e-02,  ..., -2.3675e-01,\n",
      "           5.1684e-02, -2.2213e-02],\n",
      "         [-7.5594e-03,  6.8714e-03,  8.5600e-02,  ..., -2.3463e-01,\n",
      "           5.3340e-02, -2.5050e-02],\n",
      "         ...,\n",
      "         [-1.2463e-02,  1.4225e-05,  1.1420e-01,  ..., -2.8110e-01,\n",
      "           2.3348e-02, -4.5413e-02],\n",
      "         [ 3.3465e-02,  4.7197e-02,  5.5262e-02,  ..., -3.1925e-01,\n",
      "           5.5463e-02,  4.0828e-02],\n",
      "         [-2.4760e-03,  3.6081e-03,  9.3336e-02,  ..., -2.5956e-01,\n",
      "           4.4423e-02, -1.1907e-02]]])}, 'இல்லை': {'common_voice_ta_21896819.mp3': tensor([[[-0.0525, -0.0300, -0.0074,  ..., -0.2212,  0.0574,  0.0622],\n",
      "         [-0.0527, -0.0303, -0.0071,  ..., -0.2214,  0.0570,  0.0622],\n",
      "         [-0.0515, -0.0273, -0.0088,  ..., -0.2274,  0.0656,  0.0667],\n",
      "         ...,\n",
      "         [-0.0299,  0.0080, -0.0911,  ..., -0.1466,  0.0981,  0.1067],\n",
      "         [-0.0375, -0.0006, -0.0774,  ..., -0.1578,  0.0963,  0.1251],\n",
      "         [-0.0506, -0.0167, -0.0316,  ..., -0.1786,  0.0933,  0.1351]]]), 'common_voice_ta_21971728.mp3': tensor([[[ 0.0268,  0.0098,  0.0815,  ..., -0.3448,  0.0213, -0.1452],\n",
      "         [ 0.0468,  0.0118,  0.0859,  ..., -0.3595,  0.0218, -0.1523],\n",
      "         [ 0.0422,  0.0113,  0.0826,  ..., -0.3403,  0.0199, -0.1584],\n",
      "         ...,\n",
      "         [ 0.0410,  0.0130,  0.0776,  ..., -0.3604,  0.0223, -0.1483],\n",
      "         [ 0.0532,  0.0249,  0.0969,  ..., -0.3980,  0.0173, -0.1509],\n",
      "         [ 0.0392,  0.0111,  0.0861,  ..., -0.3655,  0.0181, -0.1467]]]), 'common_voice_ta_22018511.mp3': tensor([[[-0.0103, -0.0150,  0.1027,  ..., -0.2760,  0.0159,  0.0162],\n",
      "         [-0.0049, -0.0161,  0.1071,  ..., -0.2719,  0.0146,  0.0075],\n",
      "         [-0.0026, -0.0168,  0.1063,  ..., -0.2770,  0.0181,  0.0086],\n",
      "         ...,\n",
      "         [-0.0080, -0.0107,  0.0988,  ..., -0.3162,  0.0338,  0.0012],\n",
      "         [-0.0070, -0.0135,  0.0987,  ..., -0.3163,  0.0305,  0.0063],\n",
      "         [-0.0074, -0.0169,  0.0977,  ..., -0.3064,  0.0257,  0.0067]]])}, 'எட்டு': {'common_voice_ta_21714254.mp3': tensor([[[-0.0066,  0.0416,  0.0044,  ..., -0.0824,  0.0393,  0.0119],\n",
      "         [-0.0070,  0.0337,  0.0255,  ..., -0.0753,  0.0436, -0.0022],\n",
      "         [-0.0082,  0.0275,  0.0367,  ..., -0.0718,  0.0402, -0.0065],\n",
      "         ...,\n",
      "         [-0.0512,  0.0426, -0.0148,  ..., -0.1540,  0.0450,  0.0519],\n",
      "         [-0.0569,  0.0343, -0.0117,  ..., -0.1419,  0.0505,  0.0538],\n",
      "         [-0.0725,  0.0232, -0.0165,  ..., -0.1177,  0.0644,  0.0811]]]), 'common_voice_ta_21896829.mp3': tensor([[[-0.0289,  0.0396, -0.0054,  ..., -0.2478,  0.0117, -0.0171],\n",
      "         [-0.0290,  0.0393, -0.0051,  ..., -0.2478,  0.0116, -0.0174],\n",
      "         [-0.0290,  0.0394, -0.0052,  ..., -0.2478,  0.0116, -0.0173],\n",
      "         ...,\n",
      "         [-0.0020,  0.0420,  0.0034,  ..., -0.1921,  0.0343,  0.0226],\n",
      "         [-0.0290,  0.0393, -0.0050,  ..., -0.2478,  0.0116, -0.0175],\n",
      "         [-0.0290,  0.0393, -0.0051,  ..., -0.2478,  0.0116, -0.0174]]]), 'common_voice_ta_21971726.mp3': tensor([[[-0.0349,  0.0249,  0.0785,  ..., -0.2843,  0.0467, -0.0184],\n",
      "         [-0.0262,  0.0230,  0.0944,  ..., -0.2913,  0.0526, -0.0262],\n",
      "         [-0.0213,  0.0244,  0.0872,  ..., -0.2902,  0.0562, -0.0308],\n",
      "         ...,\n",
      "         [-0.0136,  0.0373,  0.0676,  ..., -0.2747,  0.0557,  0.0193],\n",
      "         [ 0.0014,  0.0439,  0.0154,  ..., -0.2669,  0.0655,  0.0877],\n",
      "         [ 0.0101,  0.0425, -0.0110,  ..., -0.2545,  0.0707,  0.1253]]])}, 'ஏழு': {'common_voice_ta_21843468.mp3': tensor([[[-0.0447, -0.0017,  0.0303,  ..., -0.2031,  0.0762, -0.1391],\n",
      "         [-0.0464, -0.0014,  0.0319,  ..., -0.2083,  0.0763, -0.1398],\n",
      "         [-0.0465, -0.0016,  0.0326,  ..., -0.2114,  0.0769, -0.1344],\n",
      "         ...,\n",
      "         [-0.0354,  0.0167, -0.0358,  ..., -0.1726,  0.0988, -0.0097],\n",
      "         [-0.0354, -0.0026,  0.0041,  ..., -0.1811,  0.0865, -0.0569],\n",
      "         [-0.0318,  0.0014, -0.0096,  ..., -0.1813,  0.0872, -0.0479]]]), 'common_voice_ta_21971677.mp3': tensor([[[-0.0729, -0.0070,  0.0666,  ..., -0.2517,  0.0160, -0.0545],\n",
      "         [-0.0655, -0.0024,  0.0743,  ..., -0.2514,  0.0105, -0.0624],\n",
      "         [-0.0642, -0.0127,  0.0813,  ..., -0.2524,  0.0133, -0.0784],\n",
      "         ...,\n",
      "         [-0.0620, -0.0147,  0.0616,  ..., -0.2447,  0.0107, -0.0646],\n",
      "         [-0.0628, -0.0128,  0.0621,  ..., -0.2513,  0.0114, -0.0601],\n",
      "         [-0.0604, -0.0115,  0.0612,  ..., -0.2570,  0.0113, -0.0539]]]), 'common_voice_ta_22018509.mp3': tensor([[[-0.0676,  0.0039,  0.1319,  ..., -0.2170, -0.0174, -0.0642],\n",
      "         [-0.0720, -0.0009,  0.1509,  ..., -0.2162, -0.0223, -0.0825],\n",
      "         [-0.0665,  0.0020,  0.1257,  ..., -0.2057, -0.0157, -0.0658],\n",
      "         ...,\n",
      "         [-0.0697,  0.0010,  0.1186,  ..., -0.2093, -0.0164, -0.0574],\n",
      "         [-0.0725, -0.0006,  0.1188,  ..., -0.2093, -0.0164, -0.0557],\n",
      "         [-0.0727,  0.0013,  0.1176,  ..., -0.2116, -0.0174, -0.0538]]])}, 'ஐந்து': {'common_voice_ta_22136234.mp3': tensor([[[-0.0435, -0.0310,  0.0347,  ..., -0.2806,  0.0205, -0.0267],\n",
      "         [-0.0285, -0.0272,  0.0352,  ..., -0.2898,  0.0250, -0.0388],\n",
      "         [-0.0265, -0.0270,  0.0338,  ..., -0.2833,  0.0217, -0.0408],\n",
      "         ...,\n",
      "         [-0.0381, -0.0362,  0.0471,  ..., -0.3101,  0.0161, -0.0275],\n",
      "         [-0.0344, -0.0368,  0.0486,  ..., -0.3112,  0.0178, -0.0232],\n",
      "         [-0.0454, -0.0384,  0.0337,  ..., -0.2980,  0.0203, -0.0184]]]), 'common_voice_ta_22280772.mp3': tensor([[[-3.3812e-03, -3.9444e-02,  6.6494e-02,  ..., -2.8730e-01,\n",
      "           2.7368e-02, -5.9824e-02],\n",
      "         [ 4.7656e-06, -3.6197e-02,  5.7526e-02,  ..., -2.7784e-01,\n",
      "           3.0496e-02, -5.1669e-02],\n",
      "         [-2.0603e-03, -4.4581e-02,  6.0432e-02,  ..., -2.8206e-01,\n",
      "           3.0873e-02, -5.8742e-02],\n",
      "         ...,\n",
      "         [ 2.3787e-04, -4.3281e-02,  6.1115e-02,  ..., -2.9999e-01,\n",
      "           3.1364e-02, -6.0945e-02],\n",
      "         [-9.2821e-03, -4.3667e-02,  6.3703e-02,  ..., -3.1179e-01,\n",
      "           2.3822e-02, -4.8919e-02],\n",
      "         [-8.3648e-03, -4.3200e-02,  6.8599e-02,  ..., -3.0743e-01,\n",
      "           2.1620e-02, -4.6906e-02]]]), 'common_voice_ta_22305206.mp3': tensor([[[-0.0271,  0.0334,  0.0021,  ..., -0.2646,  0.0460, -0.0636],\n",
      "         [-0.0262,  0.0362,  0.0013,  ..., -0.2696,  0.0458, -0.0625],\n",
      "         [-0.0309,  0.0315,  0.0106,  ..., -0.2555,  0.0475, -0.0760],\n",
      "         ...,\n",
      "         [-0.0394,  0.0237,  0.0224,  ..., -0.2542,  0.0145, -0.1056],\n",
      "         [-0.0456,  0.0238,  0.0135,  ..., -0.2434,  0.0469, -0.0494],\n",
      "         [-0.0478,  0.0262, -0.0015,  ..., -0.2432,  0.0477, -0.0384]]])}, 'ஒன்பது': {'common_voice_ta_21689632.mp3': tensor([[[-0.0609, -0.0010,  0.0279,  ..., -0.2423,  0.0702, -0.0365],\n",
      "         [-0.0648, -0.0103,  0.0465,  ..., -0.2447,  0.0728, -0.0675],\n",
      "         [-0.0562, -0.0101,  0.0492,  ..., -0.2354,  0.0718, -0.0690],\n",
      "         ...,\n",
      "         [-0.0689, -0.0148,  0.0653,  ..., -0.2593,  0.0510, -0.0939],\n",
      "         [-0.0712, -0.0029,  0.0254,  ..., -0.2182,  0.0713, -0.0249],\n",
      "         [-0.0731, -0.0047,  0.0223,  ..., -0.2182,  0.0731, -0.0161]]]), 'common_voice_ta_21746487.mp3': tensor([[[-2.7997e-02, -1.0633e-02, -5.2000e-02,  ..., -1.9042e-01,\n",
      "           6.7621e-02,  1.9300e-02],\n",
      "         [-3.6139e-02, -2.2708e-02, -5.8394e-02,  ..., -1.6251e-01,\n",
      "           7.6265e-02,  4.7223e-03],\n",
      "         [-3.9810e-02, -1.9328e-02, -6.6069e-02,  ..., -1.5997e-01,\n",
      "           7.7283e-02, -4.7627e-03],\n",
      "         ...,\n",
      "         [-4.3257e-02, -2.3071e-02, -4.3904e-02,  ..., -1.6386e-01,\n",
      "           7.6521e-02, -2.1502e-03],\n",
      "         [-4.3973e-02, -2.2928e-02, -4.6551e-02,  ..., -1.6365e-01,\n",
      "           7.5914e-02, -1.2685e-04],\n",
      "         [-4.3986e-02, -2.3014e-02, -4.8948e-02,  ..., -1.6254e-01,\n",
      "           7.4484e-02,  5.0612e-03]]]), 'common_voice_ta_21829429.mp3': tensor([[[-0.0375,  0.0212,  0.1090,  ..., -0.2797,  0.0739, -0.1348],\n",
      "         [-0.0235,  0.0055,  0.1513,  ..., -0.2723,  0.0812, -0.1574],\n",
      "         [-0.0186,  0.0004,  0.1584,  ..., -0.2702,  0.0831, -0.1621],\n",
      "         ...,\n",
      "         [-0.0300,  0.0013,  0.1813,  ..., -0.2995,  0.0437, -0.1796],\n",
      "         [-0.0299,  0.0012,  0.1815,  ..., -0.2994,  0.0439, -0.1796],\n",
      "         [-0.0299,  0.0012,  0.1813,  ..., -0.2996,  0.0438, -0.1796]]])}, 'ஒன்று': {'common_voice_ta_21708919.mp3': tensor([[[-0.0210,  0.0411, -0.0125,  ..., -0.2039,  0.0474,  0.0146],\n",
      "         [-0.0224,  0.0401, -0.0135,  ..., -0.2106,  0.0480,  0.0130],\n",
      "         [-0.0252,  0.0389, -0.0139,  ..., -0.2173,  0.0488,  0.0146],\n",
      "         ...,\n",
      "         [-0.0559,  0.0248,  0.0572,  ..., -0.2332,  0.0468, -0.0411],\n",
      "         [-0.0571,  0.0230,  0.0547,  ..., -0.2388,  0.0462, -0.0366],\n",
      "         [-0.0557,  0.0310,  0.0314,  ..., -0.2232,  0.0493, -0.0153]]]), 'common_voice_ta_21746221.mp3': tensor([[[-0.0437,  0.0077,  0.0467,  ..., -0.2152,  0.0283, -0.0035],\n",
      "         [-0.0480,  0.0018,  0.0438,  ..., -0.2136,  0.0279, -0.0159],\n",
      "         [-0.0492, -0.0011,  0.0439,  ..., -0.2140,  0.0279, -0.0156],\n",
      "         ...,\n",
      "         [-0.0651, -0.0052,  0.0439,  ..., -0.2309,  0.0274, -0.0065],\n",
      "         [-0.0657, -0.0071,  0.0498,  ..., -0.2367,  0.0264, -0.0050],\n",
      "         [-0.0675, -0.0084,  0.0503,  ..., -0.2340,  0.0265, -0.0016]]]), 'common_voice_ta_21896820.mp3': tensor([[[-0.0350,  0.0076,  0.0940,  ..., -0.1700,  0.0590, -0.0052],\n",
      "         [-0.0352,  0.0075,  0.0943,  ..., -0.1699,  0.0589, -0.0054],\n",
      "         [-0.0352,  0.0075,  0.0942,  ..., -0.1699,  0.0589, -0.0053],\n",
      "         ...,\n",
      "         [ 0.0200,  0.0280,  0.0507,  ..., -0.0830,  0.0698, -0.0036],\n",
      "         [-0.0351,  0.0075,  0.0942,  ..., -0.1700,  0.0590, -0.0054],\n",
      "         [ 0.0052,  0.0182,  0.0526,  ..., -0.1118,  0.0767,  0.0214]]])}, 'நான்கு': {'common_voice_ta_21829428.mp3': tensor([[[-0.0215,  0.0040,  0.1342,  ..., -0.2819,  0.0630, -0.0275],\n",
      "         [-0.0119,  0.0008,  0.1403,  ..., -0.2766,  0.0655, -0.0383],\n",
      "         [-0.0105, -0.0055,  0.1461,  ..., -0.2800,  0.0687, -0.0436],\n",
      "         ...,\n",
      "         [-0.0214, -0.0013,  0.1519,  ..., -0.2962,  0.0576, -0.0399],\n",
      "         [-0.0162, -0.0056,  0.1683,  ..., -0.3126,  0.0466, -0.0471],\n",
      "         [-0.0184, -0.0110,  0.1848,  ..., -0.3203,  0.0411, -0.0520]]]), 'common_voice_ta_21896824.mp3': tensor([[[-0.0196,  0.0106,  0.0129,  ..., -0.2204,  0.0127, -0.0332],\n",
      "         [-0.0268,  0.0098,  0.0199,  ..., -0.2368,  0.0042, -0.0414],\n",
      "         [-0.0205,  0.0106,  0.0146,  ..., -0.2294,  0.0111, -0.0347],\n",
      "         ...,\n",
      "         [-0.0166,  0.0036,  0.0263,  ..., -0.1983,  0.0376, -0.0073],\n",
      "         [-0.0145,  0.0066,  0.0137,  ..., -0.1986,  0.0368, -0.0011],\n",
      "         [-0.0113,  0.0027,  0.0157,  ..., -0.1981,  0.0366, -0.0036]]]), 'common_voice_ta_21971674.mp3': tensor([[[-0.0005, -0.0147, -0.0266,  ..., -0.1907,  0.0666, -0.0198],\n",
      "         [ 0.0041, -0.0141, -0.0106,  ..., -0.1840,  0.0634, -0.0228],\n",
      "         [ 0.0103, -0.0102, -0.0145,  ..., -0.1885,  0.0633, -0.0261],\n",
      "         ...,\n",
      "         [-0.0064, -0.0169, -0.0242,  ..., -0.2082,  0.0633, -0.0174],\n",
      "         [-0.0066, -0.0189, -0.0066,  ..., -0.2407,  0.0321, -0.0463],\n",
      "         [-0.0085, -0.0247, -0.0303,  ..., -0.1976,  0.0624, -0.0138]]])}, 'பூஜ்யம்': {'common_voice_ta_21896828.mp3': tensor([[[ 0.0294,  0.0222,  0.0745,  ..., -0.1433,  0.0446, -0.1261],\n",
      "         [ 0.0290,  0.0223,  0.0748,  ..., -0.1452,  0.0449, -0.1255],\n",
      "         [ 0.0288,  0.0219,  0.0760,  ..., -0.1465,  0.0452, -0.1244],\n",
      "         ...,\n",
      "         [ 0.0165,  0.0132,  0.0944,  ..., -0.1668,  0.0404, -0.1397],\n",
      "         [ 0.0089,  0.0104,  0.0814,  ..., -0.1634,  0.0398, -0.1291],\n",
      "         [ 0.0107,  0.0140,  0.0838,  ..., -0.1533,  0.0353, -0.1249]]]), 'common_voice_ta_21971675.mp3': tensor([[[-0.0091, -0.0114,  0.1518,  ..., -0.2149,  0.0363, -0.1118],\n",
      "         [-0.0069, -0.0105,  0.1585,  ..., -0.2285,  0.0380, -0.1152],\n",
      "         [-0.0031, -0.0098,  0.1540,  ..., -0.2125,  0.0379, -0.1261],\n",
      "         ...,\n",
      "         [-0.0107, -0.0185,  0.1493,  ..., -0.2244,  0.0461, -0.1071],\n",
      "         [-0.0076, -0.0186,  0.1516,  ..., -0.2425,  0.0431, -0.1055],\n",
      "         [-0.0117, -0.0224,  0.1500,  ..., -0.2218,  0.0448, -0.1035]]]), 'common_voice_ta_22018500.mp3': tensor([[[-0.0038, -0.0165,  0.1927,  ..., -0.2350,  0.0138, -0.0757],\n",
      "         [ 0.0012, -0.0193,  0.2008,  ..., -0.2401,  0.0181, -0.0784],\n",
      "         [-0.0016, -0.0195,  0.1969,  ..., -0.2380,  0.0176, -0.0776],\n",
      "         ...,\n",
      "         [ 0.0069, -0.0055,  0.1617,  ..., -0.2870,  0.0095, -0.0178],\n",
      "         [ 0.0063, -0.0204,  0.1954,  ..., -0.2661,  0.0182, -0.0288],\n",
      "         [ 0.0023, -0.0244,  0.2016,  ..., -0.2550,  0.0207, -0.0494]]])}, 'மூன்று': {'common_voice_ta_21896823.mp3': tensor([[[-2.4168e-02, -1.2382e-02,  1.2332e-01,  ..., -2.6174e-01,\n",
      "          -2.1809e-04, -2.9927e-02],\n",
      "         [-2.3442e-02, -1.2223e-02,  1.2237e-01,  ..., -2.6162e-01,\n",
      "           1.8971e-04, -3.0799e-02],\n",
      "         [ 8.5420e-03,  2.0207e-02, -2.1839e-02,  ..., -2.0258e-01,\n",
      "           4.0342e-02,  1.8429e-02],\n",
      "         ...,\n",
      "         [-2.4469e-02, -1.2451e-02,  1.2378e-01,  ..., -2.6178e-01,\n",
      "          -4.1030e-04, -2.9384e-02],\n",
      "         [-2.4208e-02, -1.2365e-02,  1.2330e-01,  ..., -2.6174e-01,\n",
      "          -2.2496e-04, -2.9903e-02],\n",
      "         [-1.1429e-02, -1.3047e-03,  2.8794e-02,  ..., -2.0624e-01,\n",
      "           2.6732e-02,  7.1760e-03]]]), 'common_voice_ta_21971725.mp3': tensor([[[ 0.0481, -0.0028,  0.1710,  ..., -0.2593, -0.0062, -0.1212],\n",
      "         [ 0.0512, -0.0080,  0.1704,  ..., -0.2657,  0.0027, -0.1334],\n",
      "         [ 0.0513, -0.0028,  0.1663,  ..., -0.2637, -0.0004, -0.1439],\n",
      "         ...,\n",
      "         [ 0.0468,  0.0004,  0.1593,  ..., -0.3294, -0.0211, -0.1044],\n",
      "         [ 0.0378, -0.0082,  0.1704,  ..., -0.2938, -0.0145, -0.1207],\n",
      "         [ 0.0341, -0.0069,  0.1661,  ..., -0.2793, -0.0124, -0.1104]]]), 'common_voice_ta_22018552.mp3': tensor([[[ 0.0389,  0.0712,  0.0954,  ..., -0.2837,  0.0343,  0.0027],\n",
      "         [ 0.0322,  0.0540,  0.1297,  ..., -0.2710,  0.0345, -0.0144],\n",
      "         [ 0.0318,  0.0548,  0.1218,  ..., -0.2619,  0.0352, -0.0222],\n",
      "         ...,\n",
      "         [ 0.0093,  0.0373,  0.1484,  ..., -0.3534,  0.0048, -0.0360],\n",
      "         [ 0.0098,  0.0376,  0.1487,  ..., -0.3525,  0.0050, -0.0362],\n",
      "         [ 0.0290,  0.0428,  0.1244,  ..., -0.2959,  0.0304, -0.0009]]])}, 'ஹே': {'common_voice_ta_22102692.mp3': tensor([[[-0.0166,  0.0108,  0.1249,  ..., -0.2501, -0.0139, -0.0575],\n",
      "         [-0.0132,  0.0101,  0.1278,  ..., -0.2542, -0.0154, -0.0594],\n",
      "         [-0.0139,  0.0085,  0.1351,  ..., -0.2505, -0.0144, -0.0662],\n",
      "         ...,\n",
      "         [-0.0129,  0.0094,  0.1341,  ..., -0.2666, -0.0161, -0.0610],\n",
      "         [-0.0145,  0.0106,  0.1327,  ..., -0.2674, -0.0169, -0.0603],\n",
      "         [-0.0186,  0.0113,  0.1273,  ..., -0.2669, -0.0173, -0.0592]]]), 'common_voice_ta_22280779.mp3': tensor([[[ 0.0966,  0.0223,  0.0864,  ..., -0.2610,  0.0412, -0.0437],\n",
      "         [ 0.0907,  0.0163,  0.0863,  ..., -0.2505,  0.0467, -0.0586],\n",
      "         [ 0.0890,  0.0148,  0.0911,  ..., -0.2598,  0.0440, -0.0539],\n",
      "         ...,\n",
      "         [ 0.0796,  0.0199,  0.0833,  ..., -0.2499,  0.0471, -0.0592],\n",
      "         [ 0.0791,  0.0199,  0.0806,  ..., -0.2474,  0.0492, -0.0596],\n",
      "         [ 0.0741,  0.0222,  0.0761,  ..., -0.2527,  0.0462, -0.0528]]]), 'common_voice_ta_22305162.mp3': tensor([[[ 0.0241,  0.0278,  0.0617,  ..., -0.2203,  0.0187, -0.0814],\n",
      "         [ 0.0256,  0.0298,  0.0641,  ..., -0.2221,  0.0195, -0.0800],\n",
      "         [ 0.0241,  0.0253,  0.0726,  ..., -0.2204,  0.0243, -0.0806],\n",
      "         ...,\n",
      "         [ 0.0186,  0.0163,  0.0730,  ..., -0.2294,  0.0279, -0.0792],\n",
      "         [ 0.0209,  0.0112,  0.0677,  ..., -0.2292,  0.0305, -0.0652],\n",
      "         [ 0.0265,  0.0107,  0.0727,  ..., -0.2378,  0.0278, -0.0725]]])}}\n"
     ]
    }
   ],
   "source": [
    "print(embeddings_dict)"
   ]
  },
  {
   "cell_type": "code",
   "execution_count": 76,
   "metadata": {},
   "outputs": [],
   "source": [
    "# import torch\n",
    "# import learn2learn as l2l\n",
    "# import torch.nn.functional as F\n",
    "\n",
    "# # Define the FewShotModel (similar to the one you have)\n",
    "# class FewShotModel(torch.nn.Module):\n",
    "#     def __init__(self):\n",
    "#         super(FewShotModel, self).__init__()\n",
    "#         self.processor = Wav2Vec2Processor.from_pretrained(\"facebook/wav2vec2-base-960h\")\n",
    "#         self.model = Wav2Vec2Model.from_pretrained(\"facebook/wav2vec2-base-960h\")\n",
    "\n",
    "#     def forward(self, input_values):\n",
    "#         outputs = self.model(input_values)\n",
    "#         return outputs.last_hidden_state\n",
    "\n",
    "# # Function to compute the prototypes from the embeddings\n",
    "# def compute_prototypes(embeddings_dict):\n",
    "#     prototypes = {}\n",
    "#     for class_name, embeddings in embeddings_dict.items():\n",
    "#         prototypes[class_name] = torch.mean(torch.stack(embeddings), dim=0)  # Mean embedding\n",
    "#     return prototypes\n",
    "\n",
    "# # MAML training loop with Prototypical Networks\n",
    "# def meta_train(model, tasks, num_iterations=1000, meta_lr=1e-3, inner_lr=1e-2):\n",
    "#     meta_optimizer = torch.optim.Adam(model.parameters(), lr=meta_lr)\n",
    "    \n",
    "#     for iteration in range(num_iterations):\n",
    "#         # Sample a few tasks\n",
    "#         task = tasks.sample()  # Assume tasks is a batch of few-shot learning tasks\n",
    "        \n",
    "#         # Split into support and query set for the current task\n",
    "#         support_set, query_set = task.get_support_set(), task.get_query_set()\n",
    "\n",
    "#         # Compute embeddings for support set using the model\n",
    "#         support_embeddings = model(support_set)  # (support_samples, embedding_dim)\n",
    "\n",
    "#         # Compute prototypes from support set embeddings (Prototypical Networks)\n",
    "#         prototypes = compute_prototypes(support_embeddings)\n",
    "\n",
    "#         # Now fine-tune the model with MAML: compute gradients based on query set\n",
    "#         query_embeddings = model(query_set)  # (query_samples, embedding_dim)\n",
    "        \n",
    "#         # Calculate loss (using query set embeddings and prototypes)\n",
    "#         loss = compute_loss(query_embeddings, prototypes)\n",
    "        \n",
    "#         # Perform a gradient update using MAML's meta-learning approach\n",
    "#         meta_optimizer.zero_grad()\n",
    "#         loss.backward()\n",
    "#         meta_optimizer.step()\n",
    "        \n",
    "#         print(f\"Iteration {iteration}, Loss: {loss.item()}\")\n",
    "\n",
    "# # Function to compute loss between query set and prototypes\n",
    "# def compute_loss(query_embeddings, prototypes):\n",
    "#     # Compute the Euclidean distance between query samples and prototypes\n",
    "#     distances = {}\n",
    "#     for class_name, prototype in prototypes.items():\n",
    "#         distance = F.pairwise_distance(query_embeddings, prototype.unsqueeze(0))  # Compute Euclidean distance\n",
    "#         distances[class_name] = distance\n",
    "#     return torch.mean(torch.stack(list(distances.values())))\n",
    "\n",
    "# # Example inference for new keyword using prototypical networks\n",
    "# def infer_with_prototypes(model, audio_path, embeddings_dict):\n",
    "#     new_audio_embedding = extract_embeddings(audio_path)  # Extract embedding for the new sample\n",
    "#     prototypes = compute_prototypes(embeddings_dict)  # Compute prototypes from the training data\n",
    "#     predicted_class = infer_with_prototypes(new_audio_embedding, prototypes)\n",
    "#     print(f\"Predicted class for the new audio sample: {predicted_class}\")\n",
    "    \n",
    "# def infer_with_prototypes(new_audio_embedding, prototypes):\n",
    "#     # Compute the Euclidean distance from the new embedding to each prototype\n",
    "#     distances = {}\n",
    "#     for class_name, prototype in prototypes.items():\n",
    "#         distance = F.pairwise_distance(new_audio_embedding, prototype.unsqueeze(0))  # Compute Euclidean distance\n",
    "#         distances[class_name] = distance.item()\n",
    "#     predicted_class = min(distances, key=distances.get)\n",
    "#     return predicted_class\n"
   ]
  },
  {
   "cell_type": "code",
   "execution_count": null,
   "metadata": {},
   "outputs": [
    {
     "name": "stderr",
     "output_type": "stream",
     "text": [
      "Some weights of Wav2Vec2Model were not initialized from the model checkpoint at facebook/wav2vec2-base-960h and are newly initialized: ['wav2vec2.masked_spec_embed']\n",
      "You should probably TRAIN this model on a down-stream task to be able to use it for predictions and inference.\n",
      "It is strongly recommended to pass the ``sampling_rate`` argument to this function. Failing to do so can result in silent errors that might be hard to debug.\n"
     ]
    },
    {
     "name": "stdout",
     "output_type": "stream",
     "text": [
      "Processing common_voice_ta_22102795.mp3 in ஃபயர்ஃபாக்ஸ்...\n"
     ]
    },
    {
     "name": "stderr",
     "output_type": "stream",
     "text": [
      "It is strongly recommended to pass the ``sampling_rate`` argument to this function. Failing to do so can result in silent errors that might be hard to debug.\n"
     ]
    },
    {
     "name": "stdout",
     "output_type": "stream",
     "text": [
      "Processing common_voice_ta_22119939.mp3 in ஃபயர்ஃபாக்ஸ்...\n"
     ]
    },
    {
     "name": "stderr",
     "output_type": "stream",
     "text": [
      "It is strongly recommended to pass the ``sampling_rate`` argument to this function. Failing to do so can result in silent errors that might be hard to debug.\n"
     ]
    },
    {
     "name": "stdout",
     "output_type": "stream",
     "text": [
      "Processing common_voice_ta_22136198.mp3 in ஃபயர்ஃபாக்ஸ்...\n"
     ]
    },
    {
     "name": "stderr",
     "output_type": "stream",
     "text": [
      "It is strongly recommended to pass the ``sampling_rate`` argument to this function. Failing to do so can result in silent errors that might be hard to debug.\n"
     ]
    },
    {
     "name": "stdout",
     "output_type": "stream",
     "text": [
      "Processing common_voice_ta_21689633.mp3 in ஆம்...\n"
     ]
    },
    {
     "name": "stderr",
     "output_type": "stream",
     "text": [
      "It is strongly recommended to pass the ``sampling_rate`` argument to this function. Failing to do so can result in silent errors that might be hard to debug.\n"
     ]
    },
    {
     "name": "stdout",
     "output_type": "stream",
     "text": [
      "Processing common_voice_ta_21711106.mp3 in ஆம்...\n"
     ]
    },
    {
     "name": "stderr",
     "output_type": "stream",
     "text": [
      "It is strongly recommended to pass the ``sampling_rate`` argument to this function. Failing to do so can result in silent errors that might be hard to debug.\n"
     ]
    },
    {
     "name": "stdout",
     "output_type": "stream",
     "text": [
      "Processing common_voice_ta_21721820.mp3 in ஆம்...\n"
     ]
    },
    {
     "name": "stderr",
     "output_type": "stream",
     "text": [
      "It is strongly recommended to pass the ``sampling_rate`` argument to this function. Failing to do so can result in silent errors that might be hard to debug.\n"
     ]
    },
    {
     "name": "stdout",
     "output_type": "stream",
     "text": [
      "Processing common_voice_ta_21896827.mp3 in ஆறு...\n"
     ]
    },
    {
     "name": "stderr",
     "output_type": "stream",
     "text": [
      "It is strongly recommended to pass the ``sampling_rate`` argument to this function. Failing to do so can result in silent errors that might be hard to debug.\n"
     ]
    },
    {
     "name": "stdout",
     "output_type": "stream",
     "text": [
      "Processing common_voice_ta_22018504.mp3 in ஆறு...\n"
     ]
    },
    {
     "name": "stderr",
     "output_type": "stream",
     "text": [
      "It is strongly recommended to pass the ``sampling_rate`` argument to this function. Failing to do so can result in silent errors that might be hard to debug.\n"
     ]
    },
    {
     "name": "stdout",
     "output_type": "stream",
     "text": [
      "Processing common_voice_ta_22024485.mp3 in ஆறு...\n"
     ]
    },
    {
     "name": "stderr",
     "output_type": "stream",
     "text": [
      "It is strongly recommended to pass the ``sampling_rate`` argument to this function. Failing to do so can result in silent errors that might be hard to debug.\n"
     ]
    },
    {
     "name": "stdout",
     "output_type": "stream",
     "text": [
      "Processing common_voice_ta_21896817.mp3 in இரண்டு...\n"
     ]
    },
    {
     "name": "stderr",
     "output_type": "stream",
     "text": [
      "It is strongly recommended to pass the ``sampling_rate`` argument to this function. Failing to do so can result in silent errors that might be hard to debug.\n"
     ]
    },
    {
     "name": "stdout",
     "output_type": "stream",
     "text": [
      "Processing common_voice_ta_21971682.mp3 in இரண்டு...\n"
     ]
    },
    {
     "name": "stderr",
     "output_type": "stream",
     "text": [
      "It is strongly recommended to pass the ``sampling_rate`` argument to this function. Failing to do so can result in silent errors that might be hard to debug.\n"
     ]
    },
    {
     "name": "stdout",
     "output_type": "stream",
     "text": [
      "Processing common_voice_ta_22018498.mp3 in இரண்டு...\n"
     ]
    },
    {
     "name": "stderr",
     "output_type": "stream",
     "text": [
      "It is strongly recommended to pass the ``sampling_rate`` argument to this function. Failing to do so can result in silent errors that might be hard to debug.\n"
     ]
    },
    {
     "name": "stdout",
     "output_type": "stream",
     "text": [
      "Processing common_voice_ta_21896819.mp3 in இல்லை...\n"
     ]
    },
    {
     "name": "stderr",
     "output_type": "stream",
     "text": [
      "It is strongly recommended to pass the ``sampling_rate`` argument to this function. Failing to do so can result in silent errors that might be hard to debug.\n"
     ]
    },
    {
     "name": "stdout",
     "output_type": "stream",
     "text": [
      "Processing common_voice_ta_21971728.mp3 in இல்லை...\n"
     ]
    },
    {
     "name": "stderr",
     "output_type": "stream",
     "text": [
      "It is strongly recommended to pass the ``sampling_rate`` argument to this function. Failing to do so can result in silent errors that might be hard to debug.\n"
     ]
    },
    {
     "name": "stdout",
     "output_type": "stream",
     "text": [
      "Processing common_voice_ta_22018511.mp3 in இல்லை...\n"
     ]
    },
    {
     "name": "stderr",
     "output_type": "stream",
     "text": [
      "It is strongly recommended to pass the ``sampling_rate`` argument to this function. Failing to do so can result in silent errors that might be hard to debug.\n"
     ]
    },
    {
     "name": "stdout",
     "output_type": "stream",
     "text": [
      "Processing common_voice_ta_21714254.mp3 in எட்டு...\n"
     ]
    },
    {
     "name": "stderr",
     "output_type": "stream",
     "text": [
      "It is strongly recommended to pass the ``sampling_rate`` argument to this function. Failing to do so can result in silent errors that might be hard to debug.\n"
     ]
    },
    {
     "name": "stdout",
     "output_type": "stream",
     "text": [
      "Processing common_voice_ta_21896829.mp3 in எட்டு...\n"
     ]
    },
    {
     "name": "stderr",
     "output_type": "stream",
     "text": [
      "It is strongly recommended to pass the ``sampling_rate`` argument to this function. Failing to do so can result in silent errors that might be hard to debug.\n"
     ]
    },
    {
     "name": "stdout",
     "output_type": "stream",
     "text": [
      "Processing common_voice_ta_21971726.mp3 in எட்டு...\n"
     ]
    },
    {
     "name": "stderr",
     "output_type": "stream",
     "text": [
      "It is strongly recommended to pass the ``sampling_rate`` argument to this function. Failing to do so can result in silent errors that might be hard to debug.\n"
     ]
    },
    {
     "name": "stdout",
     "output_type": "stream",
     "text": [
      "Processing common_voice_ta_21843468.mp3 in ஏழு...\n"
     ]
    },
    {
     "name": "stderr",
     "output_type": "stream",
     "text": [
      "It is strongly recommended to pass the ``sampling_rate`` argument to this function. Failing to do so can result in silent errors that might be hard to debug.\n"
     ]
    },
    {
     "name": "stdout",
     "output_type": "stream",
     "text": [
      "Processing common_voice_ta_21971677.mp3 in ஏழு...\n"
     ]
    },
    {
     "name": "stderr",
     "output_type": "stream",
     "text": [
      "It is strongly recommended to pass the ``sampling_rate`` argument to this function. Failing to do so can result in silent errors that might be hard to debug.\n"
     ]
    },
    {
     "name": "stdout",
     "output_type": "stream",
     "text": [
      "Processing common_voice_ta_22018509.mp3 in ஏழு...\n"
     ]
    },
    {
     "name": "stderr",
     "output_type": "stream",
     "text": [
      "It is strongly recommended to pass the ``sampling_rate`` argument to this function. Failing to do so can result in silent errors that might be hard to debug.\n"
     ]
    },
    {
     "name": "stdout",
     "output_type": "stream",
     "text": [
      "Processing common_voice_ta_22136234.mp3 in ஐந்து...\n"
     ]
    },
    {
     "name": "stderr",
     "output_type": "stream",
     "text": [
      "It is strongly recommended to pass the ``sampling_rate`` argument to this function. Failing to do so can result in silent errors that might be hard to debug.\n"
     ]
    },
    {
     "name": "stdout",
     "output_type": "stream",
     "text": [
      "Processing common_voice_ta_22280772.mp3 in ஐந்து...\n"
     ]
    },
    {
     "name": "stderr",
     "output_type": "stream",
     "text": [
      "It is strongly recommended to pass the ``sampling_rate`` argument to this function. Failing to do so can result in silent errors that might be hard to debug.\n"
     ]
    },
    {
     "name": "stdout",
     "output_type": "stream",
     "text": [
      "Processing common_voice_ta_22305206.mp3 in ஐந்து...\n"
     ]
    },
    {
     "name": "stderr",
     "output_type": "stream",
     "text": [
      "It is strongly recommended to pass the ``sampling_rate`` argument to this function. Failing to do so can result in silent errors that might be hard to debug.\n"
     ]
    },
    {
     "name": "stdout",
     "output_type": "stream",
     "text": [
      "Processing common_voice_ta_21689632.mp3 in ஒன்பது...\n"
     ]
    },
    {
     "name": "stderr",
     "output_type": "stream",
     "text": [
      "It is strongly recommended to pass the ``sampling_rate`` argument to this function. Failing to do so can result in silent errors that might be hard to debug.\n"
     ]
    },
    {
     "name": "stdout",
     "output_type": "stream",
     "text": [
      "Processing common_voice_ta_21746487.mp3 in ஒன்பது...\n"
     ]
    },
    {
     "name": "stderr",
     "output_type": "stream",
     "text": [
      "It is strongly recommended to pass the ``sampling_rate`` argument to this function. Failing to do so can result in silent errors that might be hard to debug.\n"
     ]
    },
    {
     "name": "stdout",
     "output_type": "stream",
     "text": [
      "Processing common_voice_ta_21829429.mp3 in ஒன்பது...\n"
     ]
    },
    {
     "name": "stderr",
     "output_type": "stream",
     "text": [
      "It is strongly recommended to pass the ``sampling_rate`` argument to this function. Failing to do so can result in silent errors that might be hard to debug.\n"
     ]
    },
    {
     "name": "stdout",
     "output_type": "stream",
     "text": [
      "Processing common_voice_ta_21708919.mp3 in ஒன்று...\n"
     ]
    },
    {
     "name": "stderr",
     "output_type": "stream",
     "text": [
      "It is strongly recommended to pass the ``sampling_rate`` argument to this function. Failing to do so can result in silent errors that might be hard to debug.\n"
     ]
    },
    {
     "name": "stdout",
     "output_type": "stream",
     "text": [
      "Processing common_voice_ta_21746221.mp3 in ஒன்று...\n"
     ]
    },
    {
     "name": "stderr",
     "output_type": "stream",
     "text": [
      "It is strongly recommended to pass the ``sampling_rate`` argument to this function. Failing to do so can result in silent errors that might be hard to debug.\n"
     ]
    },
    {
     "name": "stdout",
     "output_type": "stream",
     "text": [
      "Processing common_voice_ta_21896820.mp3 in ஒன்று...\n"
     ]
    },
    {
     "name": "stderr",
     "output_type": "stream",
     "text": [
      "It is strongly recommended to pass the ``sampling_rate`` argument to this function. Failing to do so can result in silent errors that might be hard to debug.\n"
     ]
    },
    {
     "name": "stdout",
     "output_type": "stream",
     "text": [
      "Processing common_voice_ta_21829428.mp3 in நான்கு...\n"
     ]
    },
    {
     "name": "stderr",
     "output_type": "stream",
     "text": [
      "It is strongly recommended to pass the ``sampling_rate`` argument to this function. Failing to do so can result in silent errors that might be hard to debug.\n"
     ]
    },
    {
     "name": "stdout",
     "output_type": "stream",
     "text": [
      "Processing common_voice_ta_21896824.mp3 in நான்கு...\n"
     ]
    },
    {
     "name": "stderr",
     "output_type": "stream",
     "text": [
      "It is strongly recommended to pass the ``sampling_rate`` argument to this function. Failing to do so can result in silent errors that might be hard to debug.\n"
     ]
    },
    {
     "name": "stdout",
     "output_type": "stream",
     "text": [
      "Processing common_voice_ta_21971674.mp3 in நான்கு...\n"
     ]
    },
    {
     "name": "stderr",
     "output_type": "stream",
     "text": [
      "It is strongly recommended to pass the ``sampling_rate`` argument to this function. Failing to do so can result in silent errors that might be hard to debug.\n"
     ]
    },
    {
     "name": "stdout",
     "output_type": "stream",
     "text": [
      "Processing common_voice_ta_21896828.mp3 in பூஜ்யம்...\n"
     ]
    },
    {
     "name": "stderr",
     "output_type": "stream",
     "text": [
      "It is strongly recommended to pass the ``sampling_rate`` argument to this function. Failing to do so can result in silent errors that might be hard to debug.\n"
     ]
    },
    {
     "name": "stdout",
     "output_type": "stream",
     "text": [
      "Processing common_voice_ta_21971675.mp3 in பூஜ்யம்...\n"
     ]
    },
    {
     "name": "stderr",
     "output_type": "stream",
     "text": [
      "It is strongly recommended to pass the ``sampling_rate`` argument to this function. Failing to do so can result in silent errors that might be hard to debug.\n"
     ]
    },
    {
     "name": "stdout",
     "output_type": "stream",
     "text": [
      "Processing common_voice_ta_22018500.mp3 in பூஜ்யம்...\n"
     ]
    },
    {
     "name": "stderr",
     "output_type": "stream",
     "text": [
      "It is strongly recommended to pass the ``sampling_rate`` argument to this function. Failing to do so can result in silent errors that might be hard to debug.\n"
     ]
    },
    {
     "name": "stdout",
     "output_type": "stream",
     "text": [
      "Processing common_voice_ta_21896823.mp3 in மூன்று...\n"
     ]
    },
    {
     "name": "stderr",
     "output_type": "stream",
     "text": [
      "It is strongly recommended to pass the ``sampling_rate`` argument to this function. Failing to do so can result in silent errors that might be hard to debug.\n"
     ]
    },
    {
     "name": "stdout",
     "output_type": "stream",
     "text": [
      "Processing common_voice_ta_21971725.mp3 in மூன்று...\n"
     ]
    },
    {
     "name": "stderr",
     "output_type": "stream",
     "text": [
      "It is strongly recommended to pass the ``sampling_rate`` argument to this function. Failing to do so can result in silent errors that might be hard to debug.\n"
     ]
    },
    {
     "name": "stdout",
     "output_type": "stream",
     "text": [
      "Processing common_voice_ta_22018552.mp3 in மூன்று...\n"
     ]
    },
    {
     "name": "stderr",
     "output_type": "stream",
     "text": [
      "It is strongly recommended to pass the ``sampling_rate`` argument to this function. Failing to do so can result in silent errors that might be hard to debug.\n"
     ]
    },
    {
     "name": "stdout",
     "output_type": "stream",
     "text": [
      "Processing common_voice_ta_22102692.mp3 in ஹே...\n"
     ]
    },
    {
     "name": "stderr",
     "output_type": "stream",
     "text": [
      "It is strongly recommended to pass the ``sampling_rate`` argument to this function. Failing to do so can result in silent errors that might be hard to debug.\n"
     ]
    },
    {
     "name": "stdout",
     "output_type": "stream",
     "text": [
      "Processing common_voice_ta_22280779.mp3 in ஹே...\n"
     ]
    },
    {
     "name": "stderr",
     "output_type": "stream",
     "text": [
      "It is strongly recommended to pass the ``sampling_rate`` argument to this function. Failing to do so can result in silent errors that might be hard to debug.\n"
     ]
    },
    {
     "name": "stdout",
     "output_type": "stream",
     "text": [
      "Processing common_voice_ta_22305162.mp3 in ஹே...\n"
     ]
    }
   ],
   "source": [
    "import torch\n",
    "import os\n",
    "import librosa\n",
    "import torch.nn as nn\n",
    "from transformers import Wav2Vec2Processor, Wav2Vec2Model\n",
    "import torch.nn.functional as F\n",
    "import numpy as np\n",
    "\n",
    "# 1. Define the model\n",
    "class FewShotModel(nn.Module):\n",
    "    def __init__(self):\n",
    "        super(FewShotModel, self).__init__()\n",
    "        self.processor = Wav2Vec2Processor.from_pretrained(\"facebook/wav2vec2-base-960h\")\n",
    "        self.model = Wav2Vec2Model.from_pretrained(\"facebook/wav2vec2-base-960h\")\n",
    "\n",
    "    def forward(self, input_values):\n",
    "        outputs = self.model(input_values)\n",
    "        # Extract the embeddings from the first element of the output tuple\n",
    "        return outputs[0]  # This corresponds to the last hidden state (embeddings)\n",
    "\n",
    "# 2. Load audio file using librosa (mp3 or wav)\n",
    "def load_audio(file_path):\n",
    "    waveform, sample_rate = librosa.load(file_path, sr=16000)  # Resampling to 16kHz\n",
    "    return waveform, sample_rate\n",
    "\n",
    "# 3. Extract embeddings from audio\n",
    "def extract_embeddings(audio_path, model, processor):\n",
    "    # Load the audio file\n",
    "    waveform, sample_rate = load_audio(audio_path)\n",
    "\n",
    "    # Process the audio to get features using the processor\n",
    "    input_values = processor(waveform, return_tensors=\"pt\", padding=True).input_values\n",
    "\n",
    "    # Extract the hidden states (embeddings) from the model\n",
    "    with torch.no_grad():\n",
    "        outputs = model(input_values)\n",
    "\n",
    "    # Return the embeddings from the last hidden layer\n",
    "    embeddings = outputs  # Since the output is a tensor now\n",
    "    return embeddings\n",
    "\n",
    "# 4. Compute prototypes for each class\n",
    "def compute_prototypes(embeddings_dict):\n",
    "    prototypes = {}\n",
    "    for class_name, embeddings in embeddings_dict.items():\n",
    "        prototypes[class_name] = torch.mean(torch.stack(embeddings), dim=0)  # Mean embedding\n",
    "    return prototypes\n",
    "\n",
    "# 5. Inference using Prototypical Networks (find nearest prototype)\n",
    "def infer_with_prototypes(embedding, prototypes):\n",
    "    # Compute the distances to each prototype (class center)\n",
    "    distances = {}\n",
    "    for class_name, prototype in prototypes.items():\n",
    "        distance = F.pairwise_distance(embedding, prototype.unsqueeze(0))  # Euclidean distance\n",
    "        distances[class_name] = distance.item()\n",
    "\n",
    "    # Classify based on the minimum distance\n",
    "    predicted_class = min(distances, key=distances.get)\n",
    "    return predicted_class\n",
    "\n",
    "# 6. Meta-Training with MAML and Prototypical Networks\n",
    "def meta_train(model, tasks, num_iterations=1000, lr_inner=0.01, lr_outer=0.001):\n",
    "    optimizer = torch.optim.Adam(model.parameters(), lr=lr_outer)\n",
    "\n",
    "    for iteration in range(num_iterations):\n",
    "        task = tasks.sample()  # Sample a batch of tasks\n",
    "\n",
    "        support_set, query_set = task.get_support_set(), task.get_query_set()\n",
    "\n",
    "        # Step 1: Perform an inner gradient update for the support set using MAML\n",
    "        support_embeddings = model(support_set)\n",
    "        support_loss = F.cross_entropy(support_embeddings, task.support_labels)\n",
    "        model.zero_grad()\n",
    "        support_loss.backward()\n",
    "\n",
    "        # Inner loop update\n",
    "        optimizer.step()\n",
    "\n",
    "        # Step 2: Compute the prototypes for each class (using the support set)\n",
    "        prototypes = compute_prototypes(support_embeddings)\n",
    "\n",
    "        # Step 3: Inference with prototypes (using the query set)\n",
    "        query_embeddings = model(query_set)\n",
    "        predicted_class = infer_with_prototypes(query_embeddings, prototypes)\n",
    "\n",
    "        print(f\"Iteration {iteration}, Predicted class: {predicted_class}\")\n",
    "\n",
    "# 7. Process all subfolders and extract embeddings for meta-training\n",
    "def process_subfolders(directory_path, model, processor):\n",
    "    embeddings_dict = {}  # Store embeddings by subfolder and filename\n",
    "    for subfolder in os.listdir(directory_path):\n",
    "        subfolder_path = os.path.join(directory_path, subfolder)\n",
    "        \n",
    "        if os.path.isdir(subfolder_path):\n",
    "            subfolder_embeddings = []  # Store embeddings for the current subfolder\n",
    "            for filename in os.listdir(subfolder_path):\n",
    "                if filename.endswith(\".mp3\") or filename.endswith(\".wav\"):\n",
    "                    audio_path = os.path.join(subfolder_path, filename)\n",
    "                    print(f\"Processing {filename} in {subfolder}...\")\n",
    "                    embeddings = extract_embeddings(audio_path, model, processor)\n",
    "                    subfolder_embeddings.append(embeddings)\n",
    "            embeddings_dict[subfolder] = subfolder_embeddings\n",
    "    return embeddings_dict\n",
    "\n",
    "# 8. Inference with new keywords\n",
    "def inference_with_new_keywords(model, audio_path, embeddings_dict, processor):\n",
    "    # Extract the embedding for the new audio sample\n",
    "    new_audio_embedding = extract_embeddings(audio_path, model, processor)\n",
    "\n",
    "    # Compute prototypes from the embeddings dictionary (training data)\n",
    "    prototypes = compute_prototypes(embeddings_dict)\n",
    "\n",
    "    # Classify the new audio sample by finding the nearest prototype\n",
    "    predicted_class = infer_with_prototypes(new_audio_embedding, prototypes)\n",
    "    print(f\"Predicted class for the new audio sample: {predicted_class}\")\n",
    "\n",
    "# Example Usage:\n",
    "\n",
    "# Define dataset directory path\n",
    "dataset_directory = 'cv-corpus-7.0-singleword\\ta'  # Replace with your dataset directory path\n",
    "\n",
    "# Initialize model and processor\n",
    "model = FewShotModel()\n",
    "processor = Wav2Vec2Processor.from_pretrained(\"facebook/wav2vec2-base-960h\")\n",
    "\n",
    "# Process the dataset (subfolders and audio files)\n",
    "embeddings_dict = process_subfolders(dataset_directory, model, processor)"
   ]
  },
  {
   "cell_type": "code",
   "execution_count": 92,
   "metadata": {},
   "outputs": [
    {
     "name": "stderr",
     "output_type": "stream",
     "text": [
      "Some weights of Wav2Vec2Model were not initialized from the model checkpoint at facebook/wav2vec2-base-960h and are newly initialized: ['wav2vec2.masked_spec_embed']\n",
      "You should probably TRAIN this model on a down-stream task to be able to use it for predictions and inference.\n",
      "It is strongly recommended to pass the ``sampling_rate`` argument to this function. Failing to do so can result in silent errors that might be hard to debug.\n"
     ]
    },
    {
     "name": "stdout",
     "output_type": "stream",
     "text": [
      "Processing common_voice_ta_22102795.mp3 in ஃபயர்ஃபாக்ஸ்...\n"
     ]
    },
    {
     "name": "stderr",
     "output_type": "stream",
     "text": [
      "It is strongly recommended to pass the ``sampling_rate`` argument to this function. Failing to do so can result in silent errors that might be hard to debug.\n"
     ]
    },
    {
     "name": "stdout",
     "output_type": "stream",
     "text": [
      "Processing common_voice_ta_22119939.mp3 in ஃபயர்ஃபாக்ஸ்...\n"
     ]
    },
    {
     "name": "stderr",
     "output_type": "stream",
     "text": [
      "It is strongly recommended to pass the ``sampling_rate`` argument to this function. Failing to do so can result in silent errors that might be hard to debug.\n"
     ]
    },
    {
     "name": "stdout",
     "output_type": "stream",
     "text": [
      "Processing common_voice_ta_22136198.mp3 in ஃபயர்ஃபாக்ஸ்...\n"
     ]
    },
    {
     "name": "stderr",
     "output_type": "stream",
     "text": [
      "It is strongly recommended to pass the ``sampling_rate`` argument to this function. Failing to do so can result in silent errors that might be hard to debug.\n"
     ]
    },
    {
     "name": "stdout",
     "output_type": "stream",
     "text": [
      "Processing common_voice_ta_21689633.mp3 in ஆம்...\n"
     ]
    },
    {
     "name": "stderr",
     "output_type": "stream",
     "text": [
      "It is strongly recommended to pass the ``sampling_rate`` argument to this function. Failing to do so can result in silent errors that might be hard to debug.\n"
     ]
    },
    {
     "name": "stdout",
     "output_type": "stream",
     "text": [
      "Processing common_voice_ta_21711106.mp3 in ஆம்...\n"
     ]
    },
    {
     "name": "stderr",
     "output_type": "stream",
     "text": [
      "It is strongly recommended to pass the ``sampling_rate`` argument to this function. Failing to do so can result in silent errors that might be hard to debug.\n"
     ]
    },
    {
     "name": "stdout",
     "output_type": "stream",
     "text": [
      "Processing common_voice_ta_21721820.mp3 in ஆம்...\n"
     ]
    },
    {
     "name": "stderr",
     "output_type": "stream",
     "text": [
      "It is strongly recommended to pass the ``sampling_rate`` argument to this function. Failing to do so can result in silent errors that might be hard to debug.\n"
     ]
    },
    {
     "name": "stdout",
     "output_type": "stream",
     "text": [
      "Processing common_voice_ta_21896827.mp3 in ஆறு...\n"
     ]
    },
    {
     "name": "stderr",
     "output_type": "stream",
     "text": [
      "It is strongly recommended to pass the ``sampling_rate`` argument to this function. Failing to do so can result in silent errors that might be hard to debug.\n"
     ]
    },
    {
     "name": "stdout",
     "output_type": "stream",
     "text": [
      "Processing common_voice_ta_22018504.mp3 in ஆறு...\n"
     ]
    },
    {
     "name": "stderr",
     "output_type": "stream",
     "text": [
      "It is strongly recommended to pass the ``sampling_rate`` argument to this function. Failing to do so can result in silent errors that might be hard to debug.\n"
     ]
    },
    {
     "name": "stdout",
     "output_type": "stream",
     "text": [
      "Processing common_voice_ta_22024485.mp3 in ஆறு...\n"
     ]
    },
    {
     "name": "stderr",
     "output_type": "stream",
     "text": [
      "It is strongly recommended to pass the ``sampling_rate`` argument to this function. Failing to do so can result in silent errors that might be hard to debug.\n"
     ]
    },
    {
     "name": "stdout",
     "output_type": "stream",
     "text": [
      "Processing common_voice_ta_21896817.mp3 in இரண்டு...\n"
     ]
    },
    {
     "name": "stderr",
     "output_type": "stream",
     "text": [
      "It is strongly recommended to pass the ``sampling_rate`` argument to this function. Failing to do so can result in silent errors that might be hard to debug.\n"
     ]
    },
    {
     "name": "stdout",
     "output_type": "stream",
     "text": [
      "Processing common_voice_ta_21971682.mp3 in இரண்டு...\n"
     ]
    },
    {
     "name": "stderr",
     "output_type": "stream",
     "text": [
      "It is strongly recommended to pass the ``sampling_rate`` argument to this function. Failing to do so can result in silent errors that might be hard to debug.\n"
     ]
    },
    {
     "name": "stdout",
     "output_type": "stream",
     "text": [
      "Processing common_voice_ta_22018498.mp3 in இரண்டு...\n"
     ]
    },
    {
     "name": "stderr",
     "output_type": "stream",
     "text": [
      "It is strongly recommended to pass the ``sampling_rate`` argument to this function. Failing to do so can result in silent errors that might be hard to debug.\n"
     ]
    },
    {
     "name": "stdout",
     "output_type": "stream",
     "text": [
      "Processing common_voice_ta_21896819.mp3 in இல்லை...\n",
      "Processing common_voice_ta_21971728.mp3 in இல்லை...\n"
     ]
    },
    {
     "name": "stderr",
     "output_type": "stream",
     "text": [
      "It is strongly recommended to pass the ``sampling_rate`` argument to this function. Failing to do so can result in silent errors that might be hard to debug.\n",
      "It is strongly recommended to pass the ``sampling_rate`` argument to this function. Failing to do so can result in silent errors that might be hard to debug.\n"
     ]
    },
    {
     "name": "stdout",
     "output_type": "stream",
     "text": [
      "Processing common_voice_ta_22018511.mp3 in இல்லை...\n"
     ]
    },
    {
     "name": "stderr",
     "output_type": "stream",
     "text": [
      "It is strongly recommended to pass the ``sampling_rate`` argument to this function. Failing to do so can result in silent errors that might be hard to debug.\n"
     ]
    },
    {
     "name": "stdout",
     "output_type": "stream",
     "text": [
      "Processing common_voice_ta_21714254.mp3 in எட்டு...\n"
     ]
    },
    {
     "name": "stderr",
     "output_type": "stream",
     "text": [
      "It is strongly recommended to pass the ``sampling_rate`` argument to this function. Failing to do so can result in silent errors that might be hard to debug.\n"
     ]
    },
    {
     "name": "stdout",
     "output_type": "stream",
     "text": [
      "Processing common_voice_ta_21896829.mp3 in எட்டு...\n"
     ]
    },
    {
     "name": "stderr",
     "output_type": "stream",
     "text": [
      "It is strongly recommended to pass the ``sampling_rate`` argument to this function. Failing to do so can result in silent errors that might be hard to debug.\n"
     ]
    },
    {
     "name": "stdout",
     "output_type": "stream",
     "text": [
      "Processing common_voice_ta_21971726.mp3 in எட்டு...\n"
     ]
    },
    {
     "name": "stderr",
     "output_type": "stream",
     "text": [
      "It is strongly recommended to pass the ``sampling_rate`` argument to this function. Failing to do so can result in silent errors that might be hard to debug.\n"
     ]
    },
    {
     "name": "stdout",
     "output_type": "stream",
     "text": [
      "Processing common_voice_ta_21843468.mp3 in ஏழு...\n"
     ]
    },
    {
     "name": "stderr",
     "output_type": "stream",
     "text": [
      "It is strongly recommended to pass the ``sampling_rate`` argument to this function. Failing to do so can result in silent errors that might be hard to debug.\n"
     ]
    },
    {
     "name": "stdout",
     "output_type": "stream",
     "text": [
      "Processing common_voice_ta_21971677.mp3 in ஏழு...\n"
     ]
    },
    {
     "name": "stderr",
     "output_type": "stream",
     "text": [
      "It is strongly recommended to pass the ``sampling_rate`` argument to this function. Failing to do so can result in silent errors that might be hard to debug.\n"
     ]
    },
    {
     "name": "stdout",
     "output_type": "stream",
     "text": [
      "Processing common_voice_ta_22018509.mp3 in ஏழு...\n"
     ]
    },
    {
     "name": "stderr",
     "output_type": "stream",
     "text": [
      "It is strongly recommended to pass the ``sampling_rate`` argument to this function. Failing to do so can result in silent errors that might be hard to debug.\n"
     ]
    },
    {
     "name": "stdout",
     "output_type": "stream",
     "text": [
      "Processing common_voice_ta_22136234.mp3 in ஐந்து...\n"
     ]
    },
    {
     "name": "stderr",
     "output_type": "stream",
     "text": [
      "It is strongly recommended to pass the ``sampling_rate`` argument to this function. Failing to do so can result in silent errors that might be hard to debug.\n"
     ]
    },
    {
     "name": "stdout",
     "output_type": "stream",
     "text": [
      "Processing common_voice_ta_22280772.mp3 in ஐந்து...\n"
     ]
    },
    {
     "name": "stderr",
     "output_type": "stream",
     "text": [
      "It is strongly recommended to pass the ``sampling_rate`` argument to this function. Failing to do so can result in silent errors that might be hard to debug.\n"
     ]
    },
    {
     "name": "stdout",
     "output_type": "stream",
     "text": [
      "Processing common_voice_ta_22305206.mp3 in ஐந்து...\n"
     ]
    },
    {
     "name": "stderr",
     "output_type": "stream",
     "text": [
      "It is strongly recommended to pass the ``sampling_rate`` argument to this function. Failing to do so can result in silent errors that might be hard to debug.\n"
     ]
    },
    {
     "name": "stdout",
     "output_type": "stream",
     "text": [
      "Processing common_voice_ta_21689632.mp3 in ஒன்பது...\n"
     ]
    },
    {
     "name": "stderr",
     "output_type": "stream",
     "text": [
      "It is strongly recommended to pass the ``sampling_rate`` argument to this function. Failing to do so can result in silent errors that might be hard to debug.\n"
     ]
    },
    {
     "name": "stdout",
     "output_type": "stream",
     "text": [
      "Processing common_voice_ta_21746487.mp3 in ஒன்பது...\n"
     ]
    },
    {
     "name": "stderr",
     "output_type": "stream",
     "text": [
      "It is strongly recommended to pass the ``sampling_rate`` argument to this function. Failing to do so can result in silent errors that might be hard to debug.\n"
     ]
    },
    {
     "name": "stdout",
     "output_type": "stream",
     "text": [
      "Processing common_voice_ta_21829429.mp3 in ஒன்பது...\n"
     ]
    },
    {
     "name": "stderr",
     "output_type": "stream",
     "text": [
      "It is strongly recommended to pass the ``sampling_rate`` argument to this function. Failing to do so can result in silent errors that might be hard to debug.\n"
     ]
    },
    {
     "name": "stdout",
     "output_type": "stream",
     "text": [
      "Processing common_voice_ta_21708919.mp3 in ஒன்று...\n"
     ]
    },
    {
     "name": "stderr",
     "output_type": "stream",
     "text": [
      "It is strongly recommended to pass the ``sampling_rate`` argument to this function. Failing to do so can result in silent errors that might be hard to debug.\n"
     ]
    },
    {
     "name": "stdout",
     "output_type": "stream",
     "text": [
      "Processing common_voice_ta_21746221.mp3 in ஒன்று...\n"
     ]
    },
    {
     "name": "stderr",
     "output_type": "stream",
     "text": [
      "It is strongly recommended to pass the ``sampling_rate`` argument to this function. Failing to do so can result in silent errors that might be hard to debug.\n"
     ]
    },
    {
     "name": "stdout",
     "output_type": "stream",
     "text": [
      "Processing common_voice_ta_21896820.mp3 in ஒன்று...\n"
     ]
    },
    {
     "name": "stderr",
     "output_type": "stream",
     "text": [
      "It is strongly recommended to pass the ``sampling_rate`` argument to this function. Failing to do so can result in silent errors that might be hard to debug.\n"
     ]
    },
    {
     "name": "stdout",
     "output_type": "stream",
     "text": [
      "Processing common_voice_ta_21829428.mp3 in நான்கு...\n"
     ]
    },
    {
     "name": "stderr",
     "output_type": "stream",
     "text": [
      "It is strongly recommended to pass the ``sampling_rate`` argument to this function. Failing to do so can result in silent errors that might be hard to debug.\n"
     ]
    },
    {
     "name": "stdout",
     "output_type": "stream",
     "text": [
      "Processing common_voice_ta_21896824.mp3 in நான்கு...\n"
     ]
    },
    {
     "name": "stderr",
     "output_type": "stream",
     "text": [
      "It is strongly recommended to pass the ``sampling_rate`` argument to this function. Failing to do so can result in silent errors that might be hard to debug.\n"
     ]
    },
    {
     "name": "stdout",
     "output_type": "stream",
     "text": [
      "Processing common_voice_ta_21971674.mp3 in நான்கு...\n"
     ]
    },
    {
     "name": "stderr",
     "output_type": "stream",
     "text": [
      "It is strongly recommended to pass the ``sampling_rate`` argument to this function. Failing to do so can result in silent errors that might be hard to debug.\n"
     ]
    },
    {
     "name": "stdout",
     "output_type": "stream",
     "text": [
      "Processing common_voice_ta_21896828.mp3 in பூஜ்யம்...\n"
     ]
    },
    {
     "name": "stderr",
     "output_type": "stream",
     "text": [
      "It is strongly recommended to pass the ``sampling_rate`` argument to this function. Failing to do so can result in silent errors that might be hard to debug.\n"
     ]
    },
    {
     "name": "stdout",
     "output_type": "stream",
     "text": [
      "Processing common_voice_ta_21971675.mp3 in பூஜ்யம்...\n"
     ]
    },
    {
     "name": "stderr",
     "output_type": "stream",
     "text": [
      "It is strongly recommended to pass the ``sampling_rate`` argument to this function. Failing to do so can result in silent errors that might be hard to debug.\n"
     ]
    },
    {
     "name": "stdout",
     "output_type": "stream",
     "text": [
      "Processing common_voice_ta_22018500.mp3 in பூஜ்யம்...\n"
     ]
    },
    {
     "name": "stderr",
     "output_type": "stream",
     "text": [
      "It is strongly recommended to pass the ``sampling_rate`` argument to this function. Failing to do so can result in silent errors that might be hard to debug.\n"
     ]
    },
    {
     "name": "stdout",
     "output_type": "stream",
     "text": [
      "Processing common_voice_ta_21896823.mp3 in மூன்று...\n"
     ]
    },
    {
     "name": "stderr",
     "output_type": "stream",
     "text": [
      "It is strongly recommended to pass the ``sampling_rate`` argument to this function. Failing to do so can result in silent errors that might be hard to debug.\n"
     ]
    },
    {
     "name": "stdout",
     "output_type": "stream",
     "text": [
      "Processing common_voice_ta_21971725.mp3 in மூன்று...\n"
     ]
    },
    {
     "name": "stderr",
     "output_type": "stream",
     "text": [
      "It is strongly recommended to pass the ``sampling_rate`` argument to this function. Failing to do so can result in silent errors that might be hard to debug.\n"
     ]
    },
    {
     "name": "stdout",
     "output_type": "stream",
     "text": [
      "Processing common_voice_ta_22018552.mp3 in மூன்று...\n"
     ]
    },
    {
     "name": "stderr",
     "output_type": "stream",
     "text": [
      "It is strongly recommended to pass the ``sampling_rate`` argument to this function. Failing to do so can result in silent errors that might be hard to debug.\n"
     ]
    },
    {
     "name": "stdout",
     "output_type": "stream",
     "text": [
      "Processing common_voice_ta_22102692.mp3 in ஹே...\n"
     ]
    },
    {
     "name": "stderr",
     "output_type": "stream",
     "text": [
      "It is strongly recommended to pass the ``sampling_rate`` argument to this function. Failing to do so can result in silent errors that might be hard to debug.\n"
     ]
    },
    {
     "name": "stdout",
     "output_type": "stream",
     "text": [
      "Processing common_voice_ta_22280779.mp3 in ஹே...\n"
     ]
    },
    {
     "name": "stderr",
     "output_type": "stream",
     "text": [
      "It is strongly recommended to pass the ``sampling_rate`` argument to this function. Failing to do so can result in silent errors that might be hard to debug.\n"
     ]
    },
    {
     "name": "stdout",
     "output_type": "stream",
     "text": [
      "Processing common_voice_ta_22305162.mp3 in ஹே...\n"
     ]
    },
    {
     "name": "stderr",
     "output_type": "stream",
     "text": [
      "It is strongly recommended to pass the ``sampling_rate`` argument to this function. Failing to do so can result in silent errors that might be hard to debug.\n"
     ]
    },
    {
     "name": "stdout",
     "output_type": "stream",
     "text": [
      "Predicted class for the new audio sample: ஆம்\n"
     ]
    }
   ],
   "source": [
    "import torch\n",
    "import os\n",
    "import librosa\n",
    "import torch.nn.functional as F\n",
    "from transformers import Wav2Vec2Processor, Wav2Vec2Model\n",
    "\n",
    "# 1. Load audio file using librosa (mp3 or wav)\n",
    "def load_audio(file_path):\n",
    "    waveform, sample_rate = librosa.load(file_path, sr=16000)  # Resampling to 16kHz\n",
    "    return waveform, sample_rate\n",
    "\n",
    "# 2. Extract embeddings from audio\n",
    "def extract_embeddings(audio_path, model, processor):\n",
    "    # Load the audio file\n",
    "    waveform, sample_rate = load_audio(audio_path)\n",
    "\n",
    "    # Process the audio to get features using the processor\n",
    "    input_values = processor(waveform, return_tensors=\"pt\", padding=True).input_values\n",
    "\n",
    "    # Extract the hidden states (embeddings) from the model\n",
    "    with torch.no_grad():\n",
    "        outputs = model(input_values)  # Wav2Vec2BaseModelOutput\n",
    "\n",
    "    # Access last_hidden_state and average across the time dimension\n",
    "    embeddings = torch.mean(outputs.last_hidden_state, dim=1)\n",
    "    return embeddings.squeeze(0)  # Remove batch dimension\n",
    "\n",
    "# 3. Compute prototypes for each class\n",
    "def compute_prototypes(embeddings_dict):\n",
    "    prototypes = {}\n",
    "    for class_name, embeddings in embeddings_dict.items():\n",
    "        embeddings_tensor = torch.stack(embeddings)  # Stack the embeddings\n",
    "        prototypes[class_name] = torch.mean(embeddings_tensor, dim=0)  # Mean embedding\n",
    "    return prototypes\n",
    "\n",
    "# 4. Inference using Prototypical Networks (find nearest prototype)\n",
    "def infer_with_prototypes(embedding, prototypes):\n",
    "    # Compute the distances to each prototype (class center)\n",
    "    distances = {}\n",
    "    for class_name, prototype in prototypes.items():\n",
    "        distance = F.pairwise_distance(embedding.unsqueeze(0), prototype.unsqueeze(0))  # Euclidean distance\n",
    "        distances[class_name] = distance.item()\n",
    "\n",
    "    # Classify based on the minimum distance\n",
    "    predicted_class = min(distances, key=distances.get)\n",
    "    return predicted_class\n",
    "\n",
    "# 5. Process all subfolders and extract embeddings for meta-training\n",
    "def process_subfolders(directory_path, model, processor):\n",
    "    embeddings_dict = {}  # Store embeddings by subfolder and filename\n",
    "    for subfolder in os.listdir(directory_path):\n",
    "        subfolder_path = os.path.join(directory_path, subfolder)\n",
    "        \n",
    "        if os.path.isdir(subfolder_path):\n",
    "            subfolder_embeddings = []  # Store embeddings for the current subfolder\n",
    "            for filename in os.listdir(subfolder_path):\n",
    "                if filename.endswith(\".mp3\") or filename.endswith(\".wav\"):\n",
    "                    audio_path = os.path.join(subfolder_path, filename)\n",
    "                    print(f\"Processing {filename} in {subfolder}...\")\n",
    "                    embeddings = extract_embeddings(audio_path, model, processor)\n",
    "                    subfolder_embeddings.append(embeddings)\n",
    "            embeddings_dict[subfolder] = subfolder_embeddings\n",
    "    return embeddings_dict\n",
    "\n",
    "# 6. Inference with new keywords\n",
    "def inference_with_new_keywords(model, audio_path, embeddings_dict, processor):\n",
    "    # Extract the embedding for the new audio sample\n",
    "    new_audio_embedding = extract_embeddings(audio_path, model, processor)\n",
    "\n",
    "    # Compute prototypes from the embeddings dictionary (training data)\n",
    "    prototypes = compute_prototypes(embeddings_dict)\n",
    "\n",
    "    # Classify the new audio sample by finding the nearest prototype\n",
    "    predicted_class = infer_with_prototypes(new_audio_embedding, prototypes)\n",
    "    print(f\"Predicted class for the new audio sample: {predicted_class}\")\n",
    "\n",
    "# Example Usage:\n",
    "\n",
    "# Define dataset directory path\n",
    "dataset_directory = 'Few_shots/Tamil'  # Replace with your dataset directory path\n",
    "\n",
    "# Initialize model and processor\n",
    "processor = Wav2Vec2Processor.from_pretrained(\"facebook/wav2vec2-base-960h\")\n",
    "model = Wav2Vec2Model.from_pretrained(\"facebook/wav2vec2-base-960h\")\n",
    "\n",
    "# Process the dataset (subfolders and audio files)\n",
    "embeddings_dict = process_subfolders(dataset_directory, model, processor)\n",
    "\n",
    "# Example: Inference with a new keyword\n",
    "audio_file = \"Few_shots/Tamil/ஆம்/common_voice_ta_21689633.mp3\"  # Replace with your new audio file path\n",
    "inference_with_new_keywords(model, audio_file, embeddings_dict, processor)\n"
   ]
  },
  {
   "cell_type": "code",
   "execution_count": null,
   "metadata": {},
   "outputs": [
    {
     "name": "stderr",
     "output_type": "stream",
     "text": [
      "It is strongly recommended to pass the ``sampling_rate`` argument to this function. Failing to do so can result in silent errors that might be hard to debug.\n"
     ]
    },
    {
     "name": "stdout",
     "output_type": "stream",
     "text": [
      "Predicted class for the new audio sample: ஏழு\n"
     ]
    }
   ],
   "source": [
    "# Example: Inference with a new keyword\n",
    "audio_file = \"dataset\\one_word_tamil\\ஏழு\\common_voice_ta_21843468.mp3\"  # Replace with your new audio file path\n",
    "inference_with_new_keywords(model, audio_file, embeddings_dict, processor)"
   ]
  },
  {
   "cell_type": "code",
   "execution_count": 103,
   "metadata": {},
   "outputs": [
    {
     "name": "stderr",
     "output_type": "stream",
     "text": [
      "It is strongly recommended to pass the ``sampling_rate`` argument to this function. Failing to do so can result in silent errors that might be hard to debug.\n"
     ]
    },
    {
     "name": "stdout",
     "output_type": "stream",
     "text": [
      "Predicted class for the new audio sample: மூன்று\n"
     ]
    }
   ],
   "source": [
    "# Example: Inference with a new keyword\n",
    "audio_file = \"dataset\\\\cv-corpus-5.1-2020-06-22-ta\\\\cv-corpus-5.1-2020-06-22\\\\ta\\\\clips\\\\common_voice_ta_20319087.mp3\"  # Replace with your new audio file path\n",
    "inference_with_new_keywords(model, audio_file, embeddings_dict, processor)"
   ]
  },
  {
   "cell_type": "code",
   "execution_count": null,
   "metadata": {},
   "outputs": [],
   "source": []
  }
 ],
 "metadata": {
  "kernelspec": {
   "display_name": "Python 3",
   "language": "python",
   "name": "python3"
  },
  "language_info": {
   "codemirror_mode": {
    "name": "ipython",
    "version": 3
   },
   "file_extension": ".py",
   "mimetype": "text/x-python",
   "name": "python",
   "nbconvert_exporter": "python",
   "pygments_lexer": "ipython3",
   "version": "3.9.6"
  }
 },
 "nbformat": 4,
 "nbformat_minor": 2
}
